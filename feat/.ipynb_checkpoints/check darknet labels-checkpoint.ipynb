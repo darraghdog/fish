{
 "cells": [
  {
   "cell_type": "code",
   "execution_count": 24,
   "metadata": {
    "collapsed": true
   },
   "outputs": [],
   "source": [
    "import os\n",
    "import io\n",
    "from PIL import Image, ImageDraw\n",
    "import pandas as pd\n",
    "import numpy as np\n",
    "import csv, shutil\n",
    "import datetime\n",
    "import matplotlib.pyplot as plt\n",
    "import matplotlib.patches as patches\n",
    "from sklearn import cluster\n",
    "import ujson as json\n",
    "import random\n",
    "%matplotlib inline\n",
    "new_style = {'grid': False}\n",
    "plt.rc('axes', **new_style)\n",
    "random.seed(100);"
   ]
  },
  {
   "cell_type": "code",
   "execution_count": null,
   "metadata": {
    "collapsed": false
   },
   "outputs": [],
   "source": [
    "# Set working directory\n",
    "os.chdir('/home/ubuntu/fish')\n",
    "path = \"\"\n",
    "os.getcwd()"
   ]
  },
  {
   "cell_type": "code",
   "execution_count": 26,
   "metadata": {
    "collapsed": false
   },
   "outputs": [],
   "source": [
    "def draw_rect(ax, bb, size):\n",
    "    rect = patches.Rectangle(((bb[1]-(bb[3]/2))*size[0],\\\n",
    "                              (bb[2]-(bb[4]/2))*size[1]),\\\n",
    "                             bb[3]*size[0],\\\n",
    "                             bb[4]*size[1],linewidth=1,edgecolor='r',facecolor='none', lw=3)\n",
    "    return ax.add_patch(rect)"
   ]
  },
  {
   "cell_type": "code",
   "execution_count": 27,
   "metadata": {
    "collapsed": false
   },
   "outputs": [
    {
     "data": {
      "text/plain": [
       "array([ 9.        ,  0.745     ,  0.54933333,  0.294     ,  0.24533333])"
      ]
     },
     "execution_count": 27,
     "metadata": {},
     "output_type": "execute_result"
    }
   ],
   "source": [
    "bbVOC = pd.read_csv(\"/home/ubuntu/fish/darknet/VOCdevkit/VOC2007/labels/000013.txt\", sep = \" \", header=None)\n",
    "bbrowvals = bbVOC.iloc[0].values\n",
    "bbrowvals"
   ]
  },
  {
   "cell_type": "code",
   "execution_count": 28,
   "metadata": {
    "collapsed": false
   },
   "outputs": [
    {
     "data": {
      "text/plain": [
       "'/home/ubuntu'"
      ]
     },
     "execution_count": 28,
     "metadata": {},
     "output_type": "execute_result"
    }
   ],
   "source": [
    "os.getcwd()"
   ]
  },
  {
   "cell_type": "code",
   "execution_count": 32,
   "metadata": {
    "collapsed": false
   },
   "outputs": [
    {
     "data": {
      "text/html": [
       "<div>\n",
       "<table border=\"1\" class=\"dataframe\">\n",
       "  <thead>\n",
       "    <tr style=\"text-align: right;\">\n",
       "      <th></th>\n",
       "      <th>0</th>\n",
       "      <th>1</th>\n",
       "      <th>2</th>\n",
       "      <th>3</th>\n",
       "      <th>4</th>\n",
       "    </tr>\n",
       "  </thead>\n",
       "  <tbody>\n",
       "    <tr>\n",
       "      <th>0</th>\n",
       "      <td>0</td>\n",
       "      <td>0.545703</td>\n",
       "      <td>0.718056</td>\n",
       "      <td>0.074219</td>\n",
       "      <td>0.263889</td>\n",
       "    </tr>\n",
       "    <tr>\n",
       "      <th>1</th>\n",
       "      <td>0</td>\n",
       "      <td>0.692969</td>\n",
       "      <td>0.502083</td>\n",
       "      <td>0.087500</td>\n",
       "      <td>0.156944</td>\n",
       "    </tr>\n",
       "  </tbody>\n",
       "</table>\n",
       "</div>"
      ],
      "text/plain": [
       "   0         1         2         3         4\n",
       "0  0  0.545703  0.718056  0.074219  0.263889\n",
       "1  0  0.692969  0.502083  0.087500  0.156944"
      ]
     },
     "execution_count": 32,
     "metadata": {},
     "output_type": "execute_result"
    }
   ],
   "source": [
    "bbFISH = pd.read_csv(\"/home/ubuntu/fish/darknet/FISH/labels/img_00010.txt\", sep = \" \", header=None)\n",
    "bbFISH"
   ]
  },
  {
   "cell_type": "code",
   "execution_count": null,
   "metadata": {
    "collapsed": false
   },
   "outputs": [],
   "source": [
    "counter = 0\n",
    "_, ax = plt.subplots(2, 1, figsize=(20, 30))\n",
    "axis = ax[1]\n",
    "imgFISH = Image.open('data/fish/train-all/ALB/img_00010.jpg')\n",
    "for i in range(bbFISH.shape[0]):\n",
    "    draw_rect(axis, bbFISH.iloc[i].values, imgFISH.size)\n",
    "axis.imshow(np.asarray(imgFISH), interpolation='nearest', aspect='auto')  \n",
    "axis = ax[0]\n",
    "imgVOC = Image.open('/home/ubuntu/fish/darknet/VOCdevkit/VOC2007/JPEGImages/000013.jpg')\n",
    "draw_rect(axis, bbVOC, imgVOC.size)\n",
    "axis.imshow(np.asarray(imgVOC), interpolation='nearest', aspect='auto')  \n"
   ]
  },
  {
   "cell_type": "code",
   "execution_count": null,
   "metadata": {
    "collapsed": true
   },
   "outputs": [],
   "source": []
  }
 ],
 "metadata": {
  "anaconda-cloud": {},
  "kernelspec": {
   "display_name": "Python [conda root]",
   "language": "python",
   "name": "conda-root-py"
  },
  "language_info": {
   "codemirror_mode": {
    "name": "ipython",
    "version": 2
   },
   "file_extension": ".py",
   "mimetype": "text/x-python",
   "name": "python",
   "nbconvert_exporter": "python",
   "pygments_lexer": "ipython2",
   "version": "2.7.12"
  }
 },
 "nbformat": 4,
 "nbformat_minor": 1
}
