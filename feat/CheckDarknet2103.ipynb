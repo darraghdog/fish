{
 "cells": [
  {
   "cell_type": "code",
   "execution_count": 4,
   "metadata": {
    "collapsed": false
   },
   "outputs": [],
   "source": [
    "import os, random, glob, pickle, collections, math\n",
    "import numpy as np\n",
    "import pandas as pd\n",
    "import ujson as json\n",
    "from PIL import Image\n",
    "import gc\n",
    "import glob\n",
    "import shutil, csv, time\n",
    "\n",
    "#import utils; reload(utils)\n",
    "#from utils import *\n",
    "\n",
    "from sklearn.metrics import log_loss\n",
    "from sklearn.preprocessing import LabelEncoder\n",
    "# from sklearn.model_selection import train_test_split\n",
    "\n",
    "import matplotlib.pyplot as plt\n",
    "%matplotlib inline \n",
    "\n",
    "from keras.models import Sequential, Model, load_model, model_from_json\n",
    "from keras.layers import GlobalAveragePooling2D, Flatten, Dropout, Dense, LeakyReLU\n",
    "from keras.optimizers import Adam\n",
    "from keras.callbacks import EarlyStopping, ModelCheckpoint, ReduceLROnPlateau, TensorBoard\n",
    "from keras.preprocessing.image import ImageDataGenerator\n",
    "from keras.utils import np_utils\n",
    "from keras.preprocessing import image\n",
    "from keras import backend as K\n",
    "K.set_image_dim_ordering('tf')"
   ]
  },
  {
   "cell_type": "code",
   "execution_count": 5,
   "metadata": {
    "collapsed": false
   },
   "outputs": [],
   "source": [
    "TRAIN_DIR = '../data/fish/train-all/'\n",
    "TEST_DIR =  '../data/fish/test/' \n",
    "FISH_CLASSES = ['NoF', 'ALB', 'BET', 'DOL', 'LAG', 'OTHER', 'SHARK', 'YFT']\n",
    "CONF_THRESH = 0.8\n",
    "ROWS = 224\n",
    "COLS = 224\n",
    "BATCHSIZE = 32 # 256 #64\n",
    "LEARNINGRATE = 1e-4\n",
    "BG_THRESH_HI = 0.3\n",
    "BG_THRESH_LO = 0.1\n",
    "bags = 5\n",
    "learn_round = 2\n",
    "path = '../data/fish/'\n",
    "p=16\n",
    "full = True\n",
    "chk_folder = 'yolo544_0.7'\n",
    "\n",
    "def load_img(path, bbox, target_size=None):\n",
    "    img = Image.open(path)\n",
    "    img = img.convert('RGB')\n",
    "    cropped = img.crop((bbox[0],bbox[1],bbox[2],bbox[3]))\n",
    "    if target_size:\n",
    "        cropped = cropped.resize((target_size[1], target_size[0]))\n",
    "    return cropped\n",
    "\n",
    "def preprocess_input(x):\n",
    "    #resnet50 image preprocessing\n",
    "    # 'RGB'->'BGR'\n",
    "    x = x[:, :, ::-1]\n",
    "    x[:, :, 0] -= 103.939\n",
    "    x[:, :, 1] -= 116.779\n",
    "    x[:, :, 2] -= 123.68\n",
    "    return x\n",
    "def refresh_directory_structure(name, sub_dirs):\n",
    "    gdir = os.path.join(path, name)\n",
    "    if os.path.exists(gdir):\n",
    "        shutil.rmtree(gdir)\n",
    "    os.makedirs(gdir)\n",
    "    for sub_dir in sub_dirs:\n",
    "        os.makedirs(os.path.join(gdir, sub_dir))"
   ]
  },
  {
   "cell_type": "code",
   "execution_count": 6,
   "metadata": {
    "collapsed": false
   },
   "outputs": [
    {
     "data": {
      "text/html": [
       "<div>\n",
       "<table border=\"1\" class=\"dataframe\">\n",
       "  <thead>\n",
       "    <tr style=\"text-align: right;\">\n",
       "      <th></th>\n",
       "      <th>fname</th>\n",
       "      <th>proba</th>\n",
       "      <th>x0</th>\n",
       "      <th>y0</th>\n",
       "      <th>x1</th>\n",
       "      <th>y1</th>\n",
       "      <th>class</th>\n",
       "    </tr>\n",
       "  </thead>\n",
       "  <tbody>\n",
       "    <tr>\n",
       "      <th>0</th>\n",
       "      <td>image_05638</td>\n",
       "      <td>0.010699</td>\n",
       "      <td>326.307404</td>\n",
       "      <td>23.277016</td>\n",
       "      <td>523.829651</td>\n",
       "      <td>242.010712</td>\n",
       "      <td>FISH</td>\n",
       "    </tr>\n",
       "    <tr>\n",
       "      <th>1</th>\n",
       "      <td>image_05638</td>\n",
       "      <td>0.014116</td>\n",
       "      <td>412.078491</td>\n",
       "      <td>6.811630</td>\n",
       "      <td>598.082764</td>\n",
       "      <td>255.741928</td>\n",
       "      <td>FISH</td>\n",
       "    </tr>\n",
       "  </tbody>\n",
       "</table>\n",
       "</div>"
      ],
      "text/plain": [
       "         fname     proba          x0         y0          x1          y1 class\n",
       "0  image_05638  0.010699  326.307404  23.277016  523.829651  242.010712  FISH\n",
       "1  image_05638  0.014116  412.078491   6.811630  598.082764  255.741928  FISH"
      ]
     },
     "execution_count": 6,
     "metadata": {},
     "output_type": "execute_result"
    }
   ],
   "source": [
    "# Load up YOLO bounding boxes for each class\n",
    "import glob\n",
    "all_files = glob.glob(os.path.join('../yolo_coords', \"*.txt\"))\n",
    "allFiles = [f for f in all_files if 'FISH.txt' in f]\n",
    "frame = pd.DataFrame()\n",
    "list_ = []\n",
    "for file_ in allFiles:\n",
    "    df = pd.read_csv(file_,index_col=None, header=None, sep = \" \", names = ['fname', 'proba', 'x0', 'y0', 'x1', 'y1'])\n",
    "    df['class'] = file_.split('_')[-1].split('.')[0]\n",
    "    list_.append(df)\n",
    "yolo_frame = pd.concat(list_)\n",
    "# # Sort the predictions on the area \n",
    "# yolo_frame['area'] = (yolo_frame['x1']-yolo_frame['x0']) * (yolo_frame['y1']-yolo_frame['y0'])\n",
    "# yolo_frame = yolo_frame.sort(['fname','area'], ascending=[1, 0]).reset_index(drop=True)   \n",
    "# Sort the predictions on the probability \n",
    "yolo_frame.head(2)"
   ]
  },
  {
   "cell_type": "code",
   "execution_count": 7,
   "metadata": {
    "collapsed": false
   },
   "outputs": [
    {
     "name": "stderr",
     "output_type": "stream",
     "text": [
      "/home/darragh/anaconda2/lib/python2.7/site-packages/ipykernel/__main__.py:3: FutureWarning: sort(columns=....) is deprecated, use sort_values(by=.....)\n",
      "  app.launch_new_instance()\n"
     ]
    },
    {
     "data": {
      "text/html": [
       "<div>\n",
       "<table border=\"1\" class=\"dataframe\">\n",
       "  <thead>\n",
       "    <tr style=\"text-align: right;\">\n",
       "      <th></th>\n",
       "      <th>fname</th>\n",
       "      <th>proba</th>\n",
       "      <th>x0</th>\n",
       "      <th>y0</th>\n",
       "      <th>x1</th>\n",
       "      <th>y1</th>\n",
       "      <th>class</th>\n",
       "      <th>proba_max</th>\n",
       "    </tr>\n",
       "  </thead>\n",
       "  <tbody>\n",
       "    <tr>\n",
       "      <th>145581</th>\n",
       "      <td>image_00002</td>\n",
       "      <td>0.742291</td>\n",
       "      <td>521.501282</td>\n",
       "      <td>488.390686</td>\n",
       "      <td>660.290710</td>\n",
       "      <td>586.861511</td>\n",
       "      <td>FISH</td>\n",
       "      <td>0.742291</td>\n",
       "    </tr>\n",
       "    <tr>\n",
       "      <th>49434</th>\n",
       "      <td>image_00003</td>\n",
       "      <td>0.723054</td>\n",
       "      <td>564.663147</td>\n",
       "      <td>541.785217</td>\n",
       "      <td>663.956848</td>\n",
       "      <td>640.127625</td>\n",
       "      <td>FISH</td>\n",
       "      <td>0.723054</td>\n",
       "    </tr>\n",
       "    <tr>\n",
       "      <th>12439</th>\n",
       "      <td>image_00005</td>\n",
       "      <td>0.756431</td>\n",
       "      <td>586.285461</td>\n",
       "      <td>519.411438</td>\n",
       "      <td>757.763123</td>\n",
       "      <td>581.772888</td>\n",
       "      <td>FISH</td>\n",
       "      <td>0.756431</td>\n",
       "    </tr>\n",
       "    <tr>\n",
       "      <th>12426</th>\n",
       "      <td>image_00005</td>\n",
       "      <td>0.752827</td>\n",
       "      <td>497.053284</td>\n",
       "      <td>393.844055</td>\n",
       "      <td>640.627991</td>\n",
       "      <td>485.958496</td>\n",
       "      <td>FISH</td>\n",
       "      <td>0.756431</td>\n",
       "    </tr>\n",
       "    <tr>\n",
       "      <th>107807</th>\n",
       "      <td>image_00006</td>\n",
       "      <td>0.861315</td>\n",
       "      <td>618.263184</td>\n",
       "      <td>68.271027</td>\n",
       "      <td>921.453613</td>\n",
       "      <td>267.444092</td>\n",
       "      <td>FISH</td>\n",
       "      <td>0.861315</td>\n",
       "    </tr>\n",
       "  </tbody>\n",
       "</table>\n",
       "</div>"
      ],
      "text/plain": [
       "              fname     proba          x0          y0          x1          y1  \\\n",
       "145581  image_00002  0.742291  521.501282  488.390686  660.290710  586.861511   \n",
       "49434   image_00003  0.723054  564.663147  541.785217  663.956848  640.127625   \n",
       "12439   image_00005  0.756431  586.285461  519.411438  757.763123  581.772888   \n",
       "12426   image_00005  0.752827  497.053284  393.844055  640.627991  485.958496   \n",
       "107807  image_00006  0.861315  618.263184   68.271027  921.453613  267.444092   \n",
       "\n",
       "       class  proba_max  \n",
       "145581  FISH   0.742291  \n",
       "49434   FISH   0.723054  \n",
       "12439   FISH   0.756431  \n",
       "12426   FISH   0.756431  \n",
       "107807  FISH   0.861315  "
      ]
     },
     "execution_count": 7,
     "metadata": {},
     "output_type": "execute_result"
    }
   ],
   "source": [
    "yolo_frame = yolo_frame[yolo_frame['proba']>0.7]\n",
    "yolo_frame['proba_max'] = df.groupby('fname')['proba'].transform('max')\n",
    "yolo_frame = yolo_frame.sort(['fname', 'proba'], ascending=[1, 0])\n",
    "yolo_frame.head(5)"
   ]
  },
  {
   "cell_type": "code",
   "execution_count": 8,
   "metadata": {
    "collapsed": false
   },
   "outputs": [
    {
     "name": "stderr",
     "output_type": "stream",
     "text": [
      "/home/darragh/anaconda2/lib/python2.7/site-packages/ipykernel/__main__.py:7: FutureWarning: sort(columns=....) is deprecated, use sort_values(by=.....)\n"
     ]
    }
   ],
   "source": [
    "## Cut off the predictions on a probabilty\n",
    "yolo_frame = yolo_frame[yolo_frame['proba_max']>0.7]\n",
    "#yolo_frame = yolo_frame[yolo_frame['proba_max']<0.6]\n",
    "#yolo_frame = yolo_frame[yolo_frame['proba_max']>0.7]\n",
    "#yolo_frame = pd.concat([yolo_frame[(yolo_frame['proba']==yolo_frame['proba_max'])&(yolo_frame['proba_max']<0.85)],\n",
    "#                       yolo_frame[yolo_frame['proba'] > .8449]], axis = 0)\n",
    "yolo_frame = yolo_frame.sort(['fname', 'proba'], ascending=[1, 0]).reset_index(drop=True)"
   ]
  },
  {
   "cell_type": "code",
   "execution_count": 9,
   "metadata": {
    "collapsed": false
   },
   "outputs": [
    {
     "name": "stdout",
     "output_type": "stream",
     "text": [
      "6016\n"
     ]
    },
    {
     "data": {
      "text/html": [
       "<div>\n",
       "<table border=\"1\" class=\"dataframe\">\n",
       "  <thead>\n",
       "    <tr style=\"text-align: right;\">\n",
       "      <th></th>\n",
       "      <th>fname</th>\n",
       "      <th>proba</th>\n",
       "      <th>x0</th>\n",
       "      <th>y0</th>\n",
       "      <th>x1</th>\n",
       "      <th>y1</th>\n",
       "      <th>class</th>\n",
       "      <th>proba_max</th>\n",
       "    </tr>\n",
       "  </thead>\n",
       "  <tbody>\n",
       "    <tr>\n",
       "      <th>0</th>\n",
       "      <td>image_00002</td>\n",
       "      <td>0.742291</td>\n",
       "      <td>521.501282</td>\n",
       "      <td>488.390686</td>\n",
       "      <td>660.290710</td>\n",
       "      <td>586.861511</td>\n",
       "      <td>FISH</td>\n",
       "      <td>0.742291</td>\n",
       "    </tr>\n",
       "    <tr>\n",
       "      <th>1</th>\n",
       "      <td>image_00003</td>\n",
       "      <td>0.723054</td>\n",
       "      <td>564.663147</td>\n",
       "      <td>541.785217</td>\n",
       "      <td>663.956848</td>\n",
       "      <td>640.127625</td>\n",
       "      <td>FISH</td>\n",
       "      <td>0.723054</td>\n",
       "    </tr>\n",
       "    <tr>\n",
       "      <th>2</th>\n",
       "      <td>image_00005</td>\n",
       "      <td>0.756431</td>\n",
       "      <td>586.285461</td>\n",
       "      <td>519.411438</td>\n",
       "      <td>757.763123</td>\n",
       "      <td>581.772888</td>\n",
       "      <td>FISH</td>\n",
       "      <td>0.756431</td>\n",
       "    </tr>\n",
       "    <tr>\n",
       "      <th>3</th>\n",
       "      <td>image_00005</td>\n",
       "      <td>0.752827</td>\n",
       "      <td>497.053284</td>\n",
       "      <td>393.844055</td>\n",
       "      <td>640.627991</td>\n",
       "      <td>485.958496</td>\n",
       "      <td>FISH</td>\n",
       "      <td>0.756431</td>\n",
       "    </tr>\n",
       "    <tr>\n",
       "      <th>4</th>\n",
       "      <td>image_00006</td>\n",
       "      <td>0.861315</td>\n",
       "      <td>618.263184</td>\n",
       "      <td>68.271027</td>\n",
       "      <td>921.453613</td>\n",
       "      <td>267.444092</td>\n",
       "      <td>FISH</td>\n",
       "      <td>0.861315</td>\n",
       "    </tr>\n",
       "  </tbody>\n",
       "</table>\n",
       "</div>"
      ],
      "text/plain": [
       "         fname     proba          x0          y0          x1          y1  \\\n",
       "0  image_00002  0.742291  521.501282  488.390686  660.290710  586.861511   \n",
       "1  image_00003  0.723054  564.663147  541.785217  663.956848  640.127625   \n",
       "2  image_00005  0.756431  586.285461  519.411438  757.763123  581.772888   \n",
       "3  image_00005  0.752827  497.053284  393.844055  640.627991  485.958496   \n",
       "4  image_00006  0.861315  618.263184   68.271027  921.453613  267.444092   \n",
       "\n",
       "  class  proba_max  \n",
       "0  FISH   0.742291  \n",
       "1  FISH   0.723054  \n",
       "2  FISH   0.756431  \n",
       "3  FISH   0.756431  \n",
       "4  FISH   0.861315  "
      ]
     },
     "execution_count": 9,
     "metadata": {},
     "output_type": "execute_result"
    }
   ],
   "source": [
    "print len(yolo_frame.fname.unique())\n",
    "yolo_frame.head(5)"
   ]
  },
  {
   "cell_type": "code",
   "execution_count": 11,
   "metadata": {
    "collapsed": false
   },
   "outputs": [
    {
     "name": "stdout",
     "output_type": "stream",
     "text": [
      "test\n"
     ]
    },
    {
     "name": "stderr",
     "output_type": "stream",
     "text": [
      "/home/darragh/anaconda2/lib/python2.7/site-packages/ipykernel/__main__.py:24: FutureWarning: sort(columns=....) is deprecated, use sort_values(by=.....)\n"
     ]
    }
   ],
   "source": [
    "GTbbox_test_df = pd.DataFrame(columns=['image_folder', 'image_file','crop_index','crop_class','xmin','ymin','xmax','ymax'])  \n",
    "iddict = {}\n",
    "for c in ['test']:\n",
    "    print(c)\n",
    "    for l in range(yolo_frame.shape[0]):\n",
    "        image_file, proba, xmin, ymin, xmax, ymax, fish_class, area = yolo_frame.iloc[l].values.tolist()\n",
    "        if image_file in iddict:\n",
    "            iddict[image_file] += 1\n",
    "        else:\n",
    "            iddict[image_file] = 0\n",
    "        image = Image.open(TEST_DIR+c+'/'+image_file+'.jpg')\n",
    "        width_image, height_image = image.size\n",
    "        width = xmax - xmin\n",
    "        height = ymax - ymin\n",
    "        delta_width = p/(COLS-2*p)*width\n",
    "        delta_height = p/(ROWS-2*p)*height\n",
    "        xmin_expand = xmin-delta_width\n",
    "        ymin_expand = ymin-delta_height\n",
    "        xmax_expand = xmin+width+delta_width\n",
    "        ymax_expand = ymin+height+delta_height\n",
    "        assert max(xmin_expand,0)<min(xmax_expand,width_image)\n",
    "        assert max(ymin_expand,0)<min(ymax_expand,height_image)\n",
    "        GTbbox_test_df.loc[len(GTbbox_test_df)] = [c, image_file+'.jpg', iddict[image_file],fish_class,max(xmin_expand,0),max(ymin_expand,0),min(xmax_expand,width_image),min(ymax_expand,height_image)]                    \n",
    "GTbbox_test_df = GTbbox_test_df.sort(['image_file','crop_index']).reset_index(drop=True)"
   ]
  },
  {
   "cell_type": "code",
   "execution_count": 12,
   "metadata": {
    "collapsed": false
   },
   "outputs": [
    {
     "data": {
      "text/plain": [
       "(6414, 8)"
      ]
     },
     "execution_count": 12,
     "metadata": {},
     "output_type": "execute_result"
    }
   ],
   "source": [
    "GTbbox_test_df.shape"
   ]
  },
  {
   "cell_type": "code",
   "execution_count": 13,
   "metadata": {
    "collapsed": false
   },
   "outputs": [],
   "source": [
    "refresh_directory_structure('check', [chk_folder])"
   ]
  },
  {
   "cell_type": "code",
   "execution_count": 15,
   "metadata": {
    "collapsed": false
   },
   "outputs": [],
   "source": [
    "def load_img(path, bbox, target_size=None):\n",
    "    img = Image.open(path)\n",
    "    img = img.convert('RGB')\n",
    "    cropped = img.crop((bbox[0],bbox[1],bbox[2],bbox[3]))\n",
    "    if target_size:\n",
    "        cropped = cropped.resize((target_size[1], target_size[0]))\n",
    "    return cropped\n",
    "\n",
    "def load_img(path, bbox, target_size=None):\n",
    "    img = Image.open(path)\n",
    "    imsize = Image.open(path).size\n",
    "    height, width = bbox[2]-bbox[0], bbox[3]-bbox[1]\n",
    "    length = max(height, width)    \n",
    "    # Make it square\n",
    "    dim = [width, height]\n",
    "    for i in range(2):\n",
    "        offset = length - dim[0+i]\n",
    "        if bbox[0+i]+length+(offset/2) > imsize[0+i]:\n",
    "            bbox[0+i] = bbox[2+i] - length + (offset/2)\n",
    "            bbox[2+i] = bbox[2+i] + (offset/2)\n",
    "        else:\n",
    "            bbox[2+i] = bbox[0+i] + length\n",
    "        bbox[0+i] -= length*0.05\n",
    "        bbox[2+i] += length*0.05\n",
    "        \n",
    "    img = img.convert('RGB')\n",
    "    cropped = img.crop((bbox[0],bbox[1],bbox[2],bbox[3]))\n",
    "    if target_size:\n",
    "        cropped = cropped.resize((target_size[1], target_size[0]))\n",
    "    if height < width:\n",
    "        cropped = cropped.rotate(-90)\n",
    "    return cropped\n",
    "\n",
    "for index, row in GTbbox_test_df.iterrows():\n",
    "    row = row.tolist()\n",
    "    image_file = os.path.join(row[0], row[1])\n",
    "    fish = row[3]\n",
    "    bbox = row[4:8]\n",
    "    cropped = load_img(os.path.join('../data/fish/test',image_file),bbox,target_size=(ROWS,COLS))\n",
    "    cropped.save(os.path.join(path, 'check',chk_folder, row[1]))\n",
    "    "
   ]
  },
  {
   "cell_type": "code",
   "execution_count": null,
   "metadata": {
    "collapsed": false
   },
   "outputs": [],
   "source": [
    "chk_folder = 'train'\n",
    "refresh_directory_structure('check', [chk_folder])\n",
    "# Now look at the training images\n",
    "file_name = 'GTbbox_df.pickle'\n",
    "if os.path.exists('../data/'+file_name):\n",
    "    print ('Loading from file '+file_name)\n",
    "    GTbbox_df = pd.read_pickle('../data/'+file_name)\n",
    "GTbbox_df.head(3)"
   ]
  },
  {
   "cell_type": "code",
   "execution_count": null,
   "metadata": {
    "collapsed": false
   },
   "outputs": [],
   "source": [
    "for index, row in GTbbox_df.iterrows():\n",
    "    row = row.tolist()\n",
    "    image_file = os.path.join(row[0], row[1])\n",
    "    fish = row[3]\n",
    "    bbox = row[4:8]\n",
    "    cropped = load_img(os.path.join('../data/fish/train-all',image_file),bbox,target_size=(ROWS,COLS))\n",
    "    cropped.save(os.path.join(path, 'check', chk_folder, row[1]))"
   ]
  },
  {
   "cell_type": "code",
   "execution_count": null,
   "metadata": {
    "collapsed": true
   },
   "outputs": [],
   "source": []
  },
  {
   "cell_type": "code",
   "execution_count": null,
   "metadata": {
    "collapsed": false
   },
   "outputs": [],
   "source": [
    "\n",
    "path = '../data/fish/'"
   ]
  },
  {
   "cell_type": "code",
   "execution_count": null,
   "metadata": {
    "collapsed": false
   },
   "outputs": [],
   "source": [
    "chk_folder = 'train'\n",
    "for index, row in GTbbox_df.iterrows():\n",
    "    row = row.tolist()\n",
    "    image_file = os.path.join(row[0], row[1])\n",
    "    fish = row[3]\n",
    "    bbox = row[4:8]\n",
    "    cropped = load_img2(os.path.join('../data/fish/train-all',image_file),bbox,target_size=(ROWS,COLS))\n",
    "    cropped.save(os.path.join(path, 'check', chk_folder, row[1]))\n"
   ]
  }
 ],
 "metadata": {
  "anaconda-cloud": {},
  "kernelspec": {
   "display_name": "Python [Root]",
   "language": "python",
   "name": "Python [Root]"
  },
  "language_info": {
   "codemirror_mode": {
    "name": "ipython",
    "version": 2
   },
   "file_extension": ".py",
   "mimetype": "text/x-python",
   "name": "python",
   "nbconvert_exporter": "python",
   "pygments_lexer": "ipython2",
   "version": "2.7.12"
  }
 },
 "nbformat": 4,
 "nbformat_minor": 1
}
