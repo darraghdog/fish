{
 "cells": [
  {
   "cell_type": "code",
   "execution_count": 1,
   "metadata": {
    "collapsed": false
   },
   "outputs": [
    {
     "name": "stderr",
     "output_type": "stream",
     "text": [
      "Using Theano backend.\n",
      "Using gpu device 0: Tesla K80 (CNMeM is disabled, cuDNN 5103)\n",
      "/home/ubuntu/anaconda2/lib/python2.7/site-packages/theano/sandbox/cuda/__init__.py:600: UserWarning: Your cuDNN version is more recent than the one Theano officially supports. If you see any problems, try updating Theano or downgrading cuDNN to version 5.\n",
      "  warnings.warn(warn)\n"
     ]
    }
   ],
   "source": [
    "import os, random, glob, pickle, collections, math\n",
    "import numpy as np\n",
    "import pandas as pd\n",
    "import ujson as json\n",
    "from PIL import Image\n",
    "import gc\n",
    "import glob\n",
    "import shutil, csv, time\n",
    "\n",
    "#import utils; reload(utils)\n",
    "#from utils import *\n",
    "\n",
    "from sklearn.metrics import log_loss\n",
    "from sklearn.preprocessing import LabelEncoder\n",
    "from sklearn.model_selection import train_test_split\n",
    "\n",
    "import matplotlib.pyplot as plt\n",
    "%matplotlib inline \n",
    "\n",
    "from keras.models import Sequential, Model, load_model, model_from_json\n",
    "from keras.layers import GlobalAveragePooling2D, Flatten, Dropout, Dense, LeakyReLU\n",
    "from keras.optimizers import Adam\n",
    "from keras.callbacks import EarlyStopping, ModelCheckpoint, ReduceLROnPlateau, TensorBoard\n",
    "from keras.preprocessing.image import ImageDataGenerator\n",
    "from keras.utils import np_utils\n",
    "from keras.preprocessing import image\n",
    "from keras import backend as K\n",
    "K.set_image_dim_ordering('tf')"
   ]
  },
  {
   "cell_type": "code",
   "execution_count": 2,
   "metadata": {
    "collapsed": false
   },
   "outputs": [],
   "source": [
    "TRAIN_DIR = '../data/fish/train-all/'\n",
    "TEST_DIR =  '../data/fish/test/' \n",
    "FISH_CLASSES = ['NoF', 'ALB', 'BET', 'DOL', 'LAG', 'OTHER', 'SHARK', 'YFT']\n",
    "CONF_THRESH = 0.8\n",
    "ROWS = 224\n",
    "COLS = 224\n",
    "BATCHSIZE = 32 # 256 #64\n",
    "LEARNINGRATE = 1e-4\n",
    "BG_THRESH_HI = 0.3\n",
    "BG_THRESH_LO = 0.1\n",
    "bags = 5\n",
    "learn_round = 2\n",
    "path = '../data/fish/'\n",
    "p=16\n",
    "full = True\n",
    "chk_folder = 'yolo544_0.7'\n",
    "\n",
    "def load_img(path, bbox, target_size=None):\n",
    "    img = Image.open(path)\n",
    "    img = img.convert('RGB')\n",
    "    cropped = img.crop((bbox[0],bbox[1],bbox[2],bbox[3]))\n",
    "    if target_size:\n",
    "        cropped = cropped.resize((target_size[1], target_size[0]))\n",
    "    return cropped\n",
    "\n",
    "def preprocess_input(x):\n",
    "    #resnet50 image preprocessing\n",
    "    # 'RGB'->'BGR'\n",
    "    x = x[:, :, ::-1]\n",
    "    x[:, :, 0] -= 103.939\n",
    "    x[:, :, 1] -= 116.779\n",
    "    x[:, :, 2] -= 123.68\n",
    "    return x\n",
    "def refresh_directory_structure(name, sub_dirs):\n",
    "    gdir = os.path.join(path, name)\n",
    "    if os.path.exists(gdir):\n",
    "        shutil.rmtree(gdir)\n",
    "    os.makedirs(gdir)\n",
    "    for sub_dir in sub_dirs:\n",
    "        os.makedirs(os.path.join(gdir, sub_dir))"
   ]
  },
  {
   "cell_type": "code",
   "execution_count": 3,
   "metadata": {
    "collapsed": false
   },
   "outputs": [
    {
     "data": {
      "text/html": [
       "<div>\n",
       "<table border=\"1\" class=\"dataframe\">\n",
       "  <thead>\n",
       "    <tr style=\"text-align: right;\">\n",
       "      <th></th>\n",
       "      <th>fname</th>\n",
       "      <th>proba</th>\n",
       "      <th>x0</th>\n",
       "      <th>y0</th>\n",
       "      <th>x1</th>\n",
       "      <th>y1</th>\n",
       "      <th>class</th>\n",
       "    </tr>\n",
       "  </thead>\n",
       "  <tbody>\n",
       "    <tr>\n",
       "      <th>0</th>\n",
       "      <td>img_06237</td>\n",
       "      <td>0.017256</td>\n",
       "      <td>0.559990</td>\n",
       "      <td>188.796387</td>\n",
       "      <td>89.860374</td>\n",
       "      <td>421.150085</td>\n",
       "      <td>FISH640</td>\n",
       "    </tr>\n",
       "    <tr>\n",
       "      <th>1</th>\n",
       "      <td>img_06237</td>\n",
       "      <td>0.722928</td>\n",
       "      <td>572.227051</td>\n",
       "      <td>363.683228</td>\n",
       "      <td>675.870117</td>\n",
       "      <td>544.539490</td>\n",
       "      <td>FISH640</td>\n",
       "    </tr>\n",
       "  </tbody>\n",
       "</table>\n",
       "</div>"
      ],
      "text/plain": [
       "       fname     proba          x0          y0          x1          y1  \\\n",
       "0  img_06237  0.017256    0.559990  188.796387   89.860374  421.150085   \n",
       "1  img_06237  0.722928  572.227051  363.683228  675.870117  544.539490   \n",
       "\n",
       "     class  \n",
       "0  FISH640  \n",
       "1  FISH640  "
      ]
     },
     "execution_count": 3,
     "metadata": {},
     "output_type": "execute_result"
    }
   ],
   "source": [
    "# Load up YOLO bounding boxes for each class\n",
    "import glob\n",
    "all_files = glob.glob(os.path.join('../darknet/results', \"*.txt\"))\n",
    "allFiles = [f for f in all_files if 'FISH640.' in f]\n",
    "frame = pd.DataFrame()\n",
    "list_ = []\n",
    "for file_ in allFiles:\n",
    "    df = pd.read_csv(file_,index_col=None, header=None, sep = \" \", names = ['fname', 'proba', 'x0', 'y0', 'x1', 'y1'])\n",
    "    df['class'] = file_.split('_')[-1].split('.')[0]\n",
    "    list_.append(df)\n",
    "yolo_frame = pd.concat(list_)\n",
    "# # Sort the predictions on the area \n",
    "# yolo_frame['area'] = (yolo_frame['x1']-yolo_frame['x0']) * (yolo_frame['y1']-yolo_frame['y0'])\n",
    "# yolo_frame = yolo_frame.sort(['fname','area'], ascending=[1, 0]).reset_index(drop=True)   \n",
    "# Sort the predictions on the probability \n",
    "yolo_frame.head(2)"
   ]
  },
  {
   "cell_type": "code",
   "execution_count": 4,
   "metadata": {
    "collapsed": false
   },
   "outputs": [
    {
     "name": "stderr",
     "output_type": "stream",
     "text": [
      "/home/ubuntu/anaconda2/lib/python2.7/site-packages/ipykernel/__main__.py:3: FutureWarning: sort(columns=....) is deprecated, use sort_values(by=.....)\n",
      "  app.launch_new_instance()\n"
     ]
    },
    {
     "data": {
      "text/html": [
       "<div>\n",
       "<table border=\"1\" class=\"dataframe\">\n",
       "  <thead>\n",
       "    <tr style=\"text-align: right;\">\n",
       "      <th></th>\n",
       "      <th>fname</th>\n",
       "      <th>proba</th>\n",
       "      <th>x0</th>\n",
       "      <th>y0</th>\n",
       "      <th>x1</th>\n",
       "      <th>y1</th>\n",
       "      <th>class</th>\n",
       "      <th>proba_max</th>\n",
       "    </tr>\n",
       "  </thead>\n",
       "  <tbody>\n",
       "    <tr>\n",
       "      <th>3291</th>\n",
       "      <td>img_00007</td>\n",
       "      <td>0.897399</td>\n",
       "      <td>751.909729</td>\n",
       "      <td>238.239716</td>\n",
       "      <td>1144.140381</td>\n",
       "      <td>526.473633</td>\n",
       "      <td>FISH640</td>\n",
       "      <td>0.897399</td>\n",
       "    </tr>\n",
       "    <tr>\n",
       "      <th>4098</th>\n",
       "      <td>img_00009</td>\n",
       "      <td>0.883555</td>\n",
       "      <td>316.883972</td>\n",
       "      <td>133.218307</td>\n",
       "      <td>675.156799</td>\n",
       "      <td>269.438110</td>\n",
       "      <td>FISH640</td>\n",
       "      <td>0.883555</td>\n",
       "    </tr>\n",
       "    <tr>\n",
       "      <th>4096</th>\n",
       "      <td>img_00009</td>\n",
       "      <td>0.828312</td>\n",
       "      <td>594.678589</td>\n",
       "      <td>95.907486</td>\n",
       "      <td>921.656494</td>\n",
       "      <td>217.833786</td>\n",
       "      <td>FISH640</td>\n",
       "      <td>0.883555</td>\n",
       "    </tr>\n",
       "    <tr>\n",
       "      <th>4099</th>\n",
       "      <td>img_00009</td>\n",
       "      <td>0.820483</td>\n",
       "      <td>929.568542</td>\n",
       "      <td>130.349426</td>\n",
       "      <td>1166.468994</td>\n",
       "      <td>279.212738</td>\n",
       "      <td>FISH640</td>\n",
       "      <td>0.883555</td>\n",
       "    </tr>\n",
       "    <tr>\n",
       "      <th>898</th>\n",
       "      <td>img_00018</td>\n",
       "      <td>0.904430</td>\n",
       "      <td>602.756287</td>\n",
       "      <td>201.016113</td>\n",
       "      <td>975.801208</td>\n",
       "      <td>423.163086</td>\n",
       "      <td>FISH640</td>\n",
       "      <td>0.904430</td>\n",
       "    </tr>\n",
       "  </tbody>\n",
       "</table>\n",
       "</div>"
      ],
      "text/plain": [
       "          fname     proba          x0          y0           x1          y1  \\\n",
       "3291  img_00007  0.897399  751.909729  238.239716  1144.140381  526.473633   \n",
       "4098  img_00009  0.883555  316.883972  133.218307   675.156799  269.438110   \n",
       "4096  img_00009  0.828312  594.678589   95.907486   921.656494  217.833786   \n",
       "4099  img_00009  0.820483  929.568542  130.349426  1166.468994  279.212738   \n",
       "898   img_00018  0.904430  602.756287  201.016113   975.801208  423.163086   \n",
       "\n",
       "        class  proba_max  \n",
       "3291  FISH640   0.897399  \n",
       "4098  FISH640   0.883555  \n",
       "4096  FISH640   0.883555  \n",
       "4099  FISH640   0.883555  \n",
       "898   FISH640   0.904430  "
      ]
     },
     "execution_count": 4,
     "metadata": {},
     "output_type": "execute_result"
    }
   ],
   "source": [
    "yolo_frame = yolo_frame[yolo_frame['proba']>0.2]\n",
    "yolo_frame['proba_max'] = df.groupby('fname')['proba'].transform('max')\n",
    "yolo_frame = yolo_frame.sort(['fname', 'proba'], ascending=[1, 0])\n",
    "yolo_frame.head(5)"
   ]
  },
  {
   "cell_type": "code",
   "execution_count": 5,
   "metadata": {
    "collapsed": false
   },
   "outputs": [
    {
     "name": "stderr",
     "output_type": "stream",
     "text": [
      "/home/ubuntu/anaconda2/lib/python2.7/site-packages/ipykernel/__main__.py:7: FutureWarning: sort(columns=....) is deprecated, use sort_values(by=.....)\n"
     ]
    }
   ],
   "source": [
    "## Cut off the predictions on a probabilty\n",
    "yolo_frame = yolo_frame[yolo_frame['proba_max']>0.5]\n",
    "#yolo_frame = yolo_frame[yolo_frame['proba_max']<0.6]\n",
    "#yolo_frame = yolo_frame[yolo_frame['proba_max']>0.7]\n",
    "#yolo_frame = pd.concat([yolo_frame[(yolo_frame['proba']==yolo_frame['proba_max'])&(yolo_frame['proba_max']<0.85)],\n",
    "#                       yolo_frame[yolo_frame['proba'] > .8449]], axis = 0)\n",
    "yolo_frame = yolo_frame.sort(['fname', 'proba'], ascending=[1, 0]).reset_index(drop=True)"
   ]
  },
  {
   "cell_type": "code",
   "execution_count": 6,
   "metadata": {
    "collapsed": false
   },
   "outputs": [
    {
     "name": "stdout",
     "output_type": "stream",
     "text": [
      "792\n"
     ]
    },
    {
     "data": {
      "text/html": [
       "<div>\n",
       "<table border=\"1\" class=\"dataframe\">\n",
       "  <thead>\n",
       "    <tr style=\"text-align: right;\">\n",
       "      <th></th>\n",
       "      <th>fname</th>\n",
       "      <th>proba</th>\n",
       "      <th>x0</th>\n",
       "      <th>y0</th>\n",
       "      <th>x1</th>\n",
       "      <th>y1</th>\n",
       "      <th>class</th>\n",
       "      <th>proba_max</th>\n",
       "    </tr>\n",
       "  </thead>\n",
       "  <tbody>\n",
       "    <tr>\n",
       "      <th>0</th>\n",
       "      <td>img_00007</td>\n",
       "      <td>0.897399</td>\n",
       "      <td>751.909729</td>\n",
       "      <td>238.239716</td>\n",
       "      <td>1144.140381</td>\n",
       "      <td>526.473633</td>\n",
       "      <td>FISH640</td>\n",
       "      <td>0.897399</td>\n",
       "    </tr>\n",
       "    <tr>\n",
       "      <th>1</th>\n",
       "      <td>img_00009</td>\n",
       "      <td>0.883555</td>\n",
       "      <td>316.883972</td>\n",
       "      <td>133.218307</td>\n",
       "      <td>675.156799</td>\n",
       "      <td>269.438110</td>\n",
       "      <td>FISH640</td>\n",
       "      <td>0.883555</td>\n",
       "    </tr>\n",
       "    <tr>\n",
       "      <th>2</th>\n",
       "      <td>img_00009</td>\n",
       "      <td>0.828312</td>\n",
       "      <td>594.678589</td>\n",
       "      <td>95.907486</td>\n",
       "      <td>921.656494</td>\n",
       "      <td>217.833786</td>\n",
       "      <td>FISH640</td>\n",
       "      <td>0.883555</td>\n",
       "    </tr>\n",
       "    <tr>\n",
       "      <th>3</th>\n",
       "      <td>img_00009</td>\n",
       "      <td>0.820483</td>\n",
       "      <td>929.568542</td>\n",
       "      <td>130.349426</td>\n",
       "      <td>1166.468994</td>\n",
       "      <td>279.212738</td>\n",
       "      <td>FISH640</td>\n",
       "      <td>0.883555</td>\n",
       "    </tr>\n",
       "    <tr>\n",
       "      <th>4</th>\n",
       "      <td>img_00018</td>\n",
       "      <td>0.904430</td>\n",
       "      <td>602.756287</td>\n",
       "      <td>201.016113</td>\n",
       "      <td>975.801208</td>\n",
       "      <td>423.163086</td>\n",
       "      <td>FISH640</td>\n",
       "      <td>0.904430</td>\n",
       "    </tr>\n",
       "  </tbody>\n",
       "</table>\n",
       "</div>"
      ],
      "text/plain": [
       "       fname     proba          x0          y0           x1          y1  \\\n",
       "0  img_00007  0.897399  751.909729  238.239716  1144.140381  526.473633   \n",
       "1  img_00009  0.883555  316.883972  133.218307   675.156799  269.438110   \n",
       "2  img_00009  0.828312  594.678589   95.907486   921.656494  217.833786   \n",
       "3  img_00009  0.820483  929.568542  130.349426  1166.468994  279.212738   \n",
       "4  img_00018  0.904430  602.756287  201.016113   975.801208  423.163086   \n",
       "\n",
       "     class  proba_max  \n",
       "0  FISH640   0.897399  \n",
       "1  FISH640   0.883555  \n",
       "2  FISH640   0.883555  \n",
       "3  FISH640   0.883555  \n",
       "4  FISH640   0.904430  "
      ]
     },
     "execution_count": 6,
     "metadata": {},
     "output_type": "execute_result"
    }
   ],
   "source": [
    "print len(yolo_frame.fname.unique())\n",
    "yolo_frame.head(5)"
   ]
  },
  {
   "cell_type": "code",
   "execution_count": null,
   "metadata": {
    "collapsed": false
   },
   "outputs": [],
   "source": [
    "GTbbox_test_df = pd.DataFrame(columns=['image_folder', 'image_file','crop_index','crop_class','xmin','ymin','xmax','ymax'])  \n",
    "iddict = {}\n",
    "for c in ['test']:\n",
    "    print(c)\n",
    "    for l in range(yolo_frame.shape[0]):\n",
    "        image_file, proba, xmin, ymin, xmax, ymax, fish_class, area = yolo_frame.iloc[l].values.tolist()\n",
    "        if image_file in iddict:\n",
    "            iddict[image_file] += 1\n",
    "        else:\n",
    "            iddict[image_file] = 0\n",
    "        image = Image.open(TEST_DIR+c+'/'+image_file+'.jpg')\n",
    "        width_image, height_image = image.size\n",
    "        width = xmax - xmin\n",
    "        height = ymax - ymin\n",
    "        delta_width = p/(COLS-2*p)*width\n",
    "        delta_height = p/(ROWS-2*p)*height\n",
    "        xmin_expand = xmin-delta_width\n",
    "        ymin_expand = ymin-delta_height\n",
    "        xmax_expand = xmin+width+delta_width\n",
    "        ymax_expand = ymin+height+delta_height\n",
    "        assert max(xmin_expand,0)<min(xmax_expand,width_image)\n",
    "        assert max(ymin_expand,0)<min(ymax_expand,height_image)\n",
    "        GTbbox_test_df.loc[len(GTbbox_test_df)] = [c, image_file+'.jpg', iddict[image_file],fish_class,max(xmin_expand,0),max(ymin_expand,0),min(xmax_expand,width_image),min(ymax_expand,height_image)]                    \n",
    "GTbbox_test_df = GTbbox_test_df.sort(['image_file','crop_index']).reset_index(drop=True)"
   ]
  },
  {
   "cell_type": "code",
   "execution_count": null,
   "metadata": {
    "collapsed": false
   },
   "outputs": [],
   "source": [
    "GTbbox_test_df.shape"
   ]
  },
  {
   "cell_type": "code",
   "execution_count": null,
   "metadata": {
    "collapsed": false
   },
   "outputs": [],
   "source": [
    "refresh_directory_structure('check', [chk_folder])"
   ]
  },
  {
   "cell_type": "code",
   "execution_count": null,
   "metadata": {
    "collapsed": false
   },
   "outputs": [],
   "source": [
    "def load_img(path, bbox, target_size=None):\n",
    "    img = Image.open(path)\n",
    "    img = img.convert('RGB')\n",
    "    cropped = img.crop((bbox[0],bbox[1],bbox[2],bbox[3]))\n",
    "    if target_size:\n",
    "        cropped = cropped.resize((target_size[1], target_size[0]))\n",
    "    return cropped\n",
    "\n",
    "def load_img(path, bbox, target_size=None):\n",
    "    img = Image.open(path)\n",
    "    imsize = Image.open(path).size\n",
    "    height, width = bbox[2]-bbox[0], bbox[3]-bbox[1]\n",
    "    length = max(height, width)    \n",
    "    # Make it square\n",
    "    dim = [width, height]\n",
    "    for i in range(2):\n",
    "        offset = length - dim[0+i]\n",
    "        if bbox[0+i]+length+(offset/2) > imsize[0+i]:\n",
    "            bbox[0+i] = bbox[2+i] - length + (offset/2)\n",
    "            bbox[2+i] = bbox[2+i] + (offset/2)\n",
    "        else:\n",
    "            bbox[2+i] = bbox[0+i] + length\n",
    "        bbox[0+i] -= length*0.05\n",
    "        bbox[2+i] += length*0.05\n",
    "        \n",
    "    img = img.convert('RGB')\n",
    "    cropped = img.crop((bbox[0],bbox[1],bbox[2],bbox[3]))\n",
    "    if target_size:\n",
    "        cropped = cropped.resize((target_size[1], target_size[0]))\n",
    "    if height < width:\n",
    "        cropped = cropped.rotate(-90)\n",
    "    return cropped\n",
    "\n",
    "for index, row in GTbbox_test_df.iterrows():\n",
    "    row = row.tolist()\n",
    "    image_file = os.path.join(row[0], row[1])\n",
    "    fish = row[3]\n",
    "    bbox = row[4:8]\n",
    "    cropped = load_img(os.path.join('../data/fish',image_file),bbox,target_size=(ROWS,COLS))\n",
    "    cropped.save(os.path.join(path, 'check',chk_folder, row[1]))\n",
    "    "
   ]
  },
  {
   "cell_type": "code",
   "execution_count": null,
   "metadata": {
    "collapsed": false
   },
   "outputs": [],
   "source": [
    "chk_folder = 'train'\n",
    "refresh_directory_structure('check', [chk_folder])\n",
    "# Now look at the training images\n",
    "file_name = 'GTbbox_df.pickle'\n",
    "if os.path.exists('../data/'+file_name):\n",
    "    print ('Loading from file '+file_name)\n",
    "    GTbbox_df = pd.read_pickle('../data/'+file_name)\n",
    "GTbbox_df.head(3)"
   ]
  },
  {
   "cell_type": "code",
   "execution_count": null,
   "metadata": {
    "collapsed": false
   },
   "outputs": [],
   "source": [
    "for index, row in GTbbox_df.iterrows():\n",
    "    row = row.tolist()\n",
    "    image_file = os.path.join(row[0], row[1])\n",
    "    fish = row[3]\n",
    "    bbox = row[4:8]\n",
    "    cropped = load_img(os.path.join('../data/fish/train-all',image_file),bbox,target_size=(ROWS,COLS))\n",
    "    cropped.save(os.path.join(path, 'check', chk_folder, row[1]))"
   ]
  },
  {
   "cell_type": "code",
   "execution_count": null,
   "metadata": {
    "collapsed": true
   },
   "outputs": [],
   "source": []
  },
  {
   "cell_type": "code",
   "execution_count": null,
   "metadata": {
    "collapsed": false
   },
   "outputs": [],
   "source": [
    "\n",
    "path = '../data/fish/'"
   ]
  },
  {
   "cell_type": "code",
   "execution_count": null,
   "metadata": {
    "collapsed": false
   },
   "outputs": [],
   "source": [
    "chk_folder = 'train'\n",
    "for index, row in GTbbox_df.iterrows():\n",
    "    row = row.tolist()\n",
    "    image_file = os.path.join(row[0], row[1])\n",
    "    fish = row[3]\n",
    "    bbox = row[4:8]\n",
    "    cropped = load_img2(os.path.join('../data/fish/train-all',image_file),bbox,target_size=(ROWS,COLS))\n",
    "    cropped.save(os.path.join(path, 'check', chk_folder, row[1]))\n"
   ]
  }
 ],
 "metadata": {
  "anaconda-cloud": {},
  "kernelspec": {
   "display_name": "Python [conda root]",
   "language": "python",
   "name": "conda-root-py"
  },
  "language_info": {
   "codemirror_mode": {
    "name": "ipython",
    "version": 2
   },
   "file_extension": ".py",
   "mimetype": "text/x-python",
   "name": "python",
   "nbconvert_exporter": "python",
   "pygments_lexer": "ipython2",
   "version": "2.7.12"
  }
 },
 "nbformat": 4,
 "nbformat_minor": 1
}
