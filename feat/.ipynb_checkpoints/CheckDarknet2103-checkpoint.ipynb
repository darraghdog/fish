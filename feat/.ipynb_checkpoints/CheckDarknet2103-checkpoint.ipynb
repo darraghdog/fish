{
 "cells": [
  {
   "cell_type": "code",
   "execution_count": 39,
   "metadata": {
    "collapsed": false
   },
   "outputs": [],
   "source": [
    "import os, random, glob, pickle, collections, math\n",
    "import numpy as np\n",
    "import pandas as pd\n",
    "import ujson as json\n",
    "from PIL import Image\n",
    "import gc\n",
    "import glob\n",
    "import shutil, csv, time\n",
    "\n",
    "#import utils; reload(utils)\n",
    "#from utils import *\n",
    "\n",
    "from sklearn.metrics import log_loss\n",
    "from sklearn.preprocessing import LabelEncoder\n",
    "from sklearn.model_selection import train_test_split\n",
    "\n",
    "import matplotlib.pyplot as plt\n",
    "%matplotlib inline \n",
    "\n",
    "from keras.models import Sequential, Model, load_model, model_from_json\n",
    "from keras.layers import GlobalAveragePooling2D, Flatten, Dropout, Dense, LeakyReLU\n",
    "from keras.optimizers import Adam\n",
    "from keras.callbacks import EarlyStopping, ModelCheckpoint, ReduceLROnPlateau, TensorBoard\n",
    "from keras.preprocessing.image import ImageDataGenerator\n",
    "from keras.utils import np_utils\n",
    "from keras.preprocessing import image\n",
    "from keras import backend as K\n",
    "K.set_image_dim_ordering('tf')"
   ]
  },
  {
   "cell_type": "code",
   "execution_count": 40,
   "metadata": {
    "collapsed": false
   },
   "outputs": [],
   "source": [
    "TRAIN_DIR = '../data/fish/train-all/'\n",
    "TEST_DIR =  '../data/fish/test/' #'../RFCN/JPEGImages/'\n",
    "# RFCN_MODEL = 'resnet101_rfcn_ohem_iter_30000'\n",
    "CHECKPOINT_DIR = './checkpoints/checkpoint05/'\n",
    "LOG_DIR = './logs/log05/'\n",
    "FISH_CLASSES = ['NoF', 'ALB', 'BET', 'DOL', 'LAG', 'OTHER', 'SHARK', 'YFT']\n",
    "CONF_THRESH = 0.8\n",
    "ROWS = 224\n",
    "COLS = 224\n",
    "BATCHSIZE = 32 # 256 #64\n",
    "LEARNINGRATE = 1e-4\n",
    "BG_THRESH_HI = 0.3\n",
    "BG_THRESH_LO = 0.1\n",
    "bags = 5\n",
    "learn_round = 2\n",
    "path = '../data/fish/'\n",
    "p=16\n",
    "full = True\n",
    "chk_folder = 'yolo_11k_to0.85'\n",
    "\n",
    "def load_img(path, bbox, target_size=None):\n",
    "    img = Image.open(path)\n",
    "    img = img.convert('RGB')\n",
    "    cropped = img.crop((bbox[0],bbox[1],bbox[2],bbox[3]))\n",
    "    if target_size:\n",
    "        cropped = cropped.resize((target_size[1], target_size[0]))\n",
    "    return cropped\n",
    "\n",
    "def preprocess_input(x):\n",
    "    #resnet50 image preprocessing\n",
    "    # 'RGB'->'BGR'\n",
    "    x = x[:, :, ::-1]\n",
    "    x[:, :, 0] -= 103.939\n",
    "    x[:, :, 1] -= 116.779\n",
    "    x[:, :, 2] -= 123.68\n",
    "    return x\n",
    "def refresh_directory_structure(name, sub_dirs):\n",
    "    gdir = os.path.join(path, name)\n",
    "    if os.path.exists(gdir):\n",
    "        shutil.rmtree(gdir)\n",
    "    os.makedirs(gdir)\n",
    "    for sub_dir in sub_dirs:\n",
    "        os.makedirs(os.path.join(gdir, sub_dir))"
   ]
  },
  {
   "cell_type": "code",
   "execution_count": 41,
   "metadata": {
    "collapsed": false
   },
   "outputs": [
    {
     "name": "stderr",
     "output_type": "stream",
     "text": [
      "/home/ubuntu/anaconda2/lib/python2.7/site-packages/ipykernel/__main__.py:16: FutureWarning: sort(columns=....) is deprecated, use sort_values(by=.....)\n"
     ]
    },
    {
     "name": "stdout",
     "output_type": "stream",
     "text": [
      "test\n"
     ]
    },
    {
     "name": "stderr",
     "output_type": "stream",
     "text": [
      "/home/ubuntu/anaconda2/lib/python2.7/site-packages/ipykernel/__main__.py:40: FutureWarning: sort(columns=....) is deprecated, use sort_values(by=.....)\n"
     ]
    }
   ],
   "source": [
    "# Load up YOLO bounding boxes for each class\n",
    "import glob\n",
    "all_files = glob.glob(os.path.join('../yolo_coords', \"*.txt\"))\n",
    "allFiles = [f for f in all_files if 'FISH' in f]\n",
    "frame = pd.DataFrame()\n",
    "list_ = []\n",
    "for file_ in allFiles:\n",
    "    df = pd.read_csv(file_,index_col=None, header=None, sep = \" \", names = ['fname', 'proba', 'x0', 'y0', 'x1', 'y1'])\n",
    "    df['class'] = file_.split('_')[-1].split('.')[0]\n",
    "    list_.append(df)\n",
    "yolo_frame = pd.concat(list_)\n",
    "# Cut off the predictions on a probabilty\n",
    "yolo_frame = yolo_frame[yolo_frame['proba']>0.85]\n",
    "# Sort the predictions on the area \n",
    "yolo_frame['area'] = (yolo_frame['x1']-yolo_frame['x0']) * (yolo_frame['y1']-yolo_frame['y0'])\n",
    "yolo_frame = yolo_frame.sort(['fname','area'], ascending=[1, 0]).reset_index(drop=True)   \n",
    "GTbbox_test_df = pd.DataFrame(columns=['image_folder', 'image_file','crop_index','crop_class','xmin','ymin','xmax','ymax'])  \n",
    "iddict = {}\n",
    "for c in ['test']:\n",
    "    print(c)\n",
    "    for l in range(yolo_frame.shape[0]):\n",
    "        image_file, proba, xmin, ymin, xmax, ymax, fish_class, area = yolo_frame.iloc[l].values.tolist()\n",
    "        if image_file in iddict:\n",
    "            iddict[image_file] += 1\n",
    "        else:\n",
    "            iddict[image_file] = 0\n",
    "        image = Image.open(TEST_DIR+c+'/'+image_file+'.jpg')\n",
    "        width_image, height_image = image.size\n",
    "        width = xmax - xmin\n",
    "        height = ymax - ymin\n",
    "        delta_width = p/(COLS-2*p)*width\n",
    "        delta_height = p/(ROWS-2*p)*height\n",
    "        xmin_expand = xmin-delta_width\n",
    "        ymin_expand = ymin-delta_height\n",
    "        xmax_expand = xmin+width+delta_width\n",
    "        ymax_expand = ymin+height+delta_height\n",
    "        assert max(xmin_expand,0)<min(xmax_expand,width_image)\n",
    "        assert max(ymin_expand,0)<min(ymax_expand,height_image)\n",
    "        GTbbox_test_df.loc[len(GTbbox_test_df)] = [c, image_file+'.jpg', iddict[image_file],fish_class,max(xmin_expand,0),max(ymin_expand,0),min(xmax_expand,width_image),min(ymax_expand,height_image)]                    \n",
    "GTbbox_test_df = GTbbox_test_df.sort(['image_file','crop_index']).reset_index(drop=True)\n"
   ]
  },
  {
   "cell_type": "code",
   "execution_count": 42,
   "metadata": {
    "collapsed": false
   },
   "outputs": [
    {
     "data": {
      "text/html": [
       "<div>\n",
       "<table border=\"1\" class=\"dataframe\">\n",
       "  <thead>\n",
       "    <tr style=\"text-align: right;\">\n",
       "      <th></th>\n",
       "      <th>image_folder</th>\n",
       "      <th>image_file</th>\n",
       "      <th>crop_index</th>\n",
       "      <th>crop_class</th>\n",
       "      <th>xmin</th>\n",
       "      <th>ymin</th>\n",
       "      <th>xmax</th>\n",
       "      <th>ymax</th>\n",
       "    </tr>\n",
       "  </thead>\n",
       "  <tbody>\n",
       "    <tr>\n",
       "      <th>0</th>\n",
       "      <td>test</td>\n",
       "      <td>img_00007.jpg</td>\n",
       "      <td>0.0</td>\n",
       "      <td>FISH</td>\n",
       "      <td>740.284363</td>\n",
       "      <td>264.430939</td>\n",
       "      <td>1153.247192</td>\n",
       "      <td>521.133301</td>\n",
       "    </tr>\n",
       "    <tr>\n",
       "      <th>1</th>\n",
       "      <td>test</td>\n",
       "      <td>img_00009.jpg</td>\n",
       "      <td>0.0</td>\n",
       "      <td>FISH</td>\n",
       "      <td>345.490326</td>\n",
       "      <td>130.617371</td>\n",
       "      <td>669.393555</td>\n",
       "      <td>264.911346</td>\n",
       "    </tr>\n",
       "  </tbody>\n",
       "</table>\n",
       "</div>"
      ],
      "text/plain": [
       "  image_folder     image_file  crop_index crop_class        xmin        ymin  \\\n",
       "0         test  img_00007.jpg         0.0       FISH  740.284363  264.430939   \n",
       "1         test  img_00009.jpg         0.0       FISH  345.490326  130.617371   \n",
       "\n",
       "          xmax        ymax  \n",
       "0  1153.247192  521.133301  \n",
       "1   669.393555  264.911346  "
      ]
     },
     "execution_count": 42,
     "metadata": {},
     "output_type": "execute_result"
    }
   ],
   "source": [
    "GTbbox_test_df[:2]"
   ]
  },
  {
   "cell_type": "code",
   "execution_count": 43,
   "metadata": {
    "collapsed": false
   },
   "outputs": [],
   "source": [
    "refresh_directory_structure('check', [chk_folder])"
   ]
  },
  {
   "cell_type": "code",
   "execution_count": 44,
   "metadata": {
    "collapsed": false
   },
   "outputs": [],
   "source": [
    "def load_img(path, bbox, target_size=None):\n",
    "    img = Image.open(path)\n",
    "    img = img.convert('RGB')\n",
    "    cropped = img.crop((bbox[0],bbox[1],bbox[2],bbox[3]))\n",
    "    if target_size:\n",
    "        cropped = cropped.resize((target_size[1], target_size[0]))\n",
    "    return cropped\n",
    "\n",
    "for index, row in GTbbox_test_df.iterrows():\n",
    "    row = row.tolist()\n",
    "    image_file = os.path.join(row[0], row[1])\n",
    "    fish = row[3]\n",
    "    bbox = row[4:8]\n",
    "    cropped = load_img(os.path.join('../data/fish',image_file),bbox,target_size=(ROWS,COLS))\n",
    "    cropped.save(os.path.join(path, 'check',chk_folder, row[1]))\n",
    "    "
   ]
  },
  {
   "cell_type": "code",
   "execution_count": 47,
   "metadata": {
    "collapsed": false
   },
   "outputs": [
    {
     "name": "stdout",
     "output_type": "stream",
     "text": [
      "Loading from file GTbbox_df.pickle\n"
     ]
    },
    {
     "data": {
      "text/html": [
       "<div>\n",
       "<table border=\"1\" class=\"dataframe\">\n",
       "  <thead>\n",
       "    <tr style=\"text-align: right;\">\n",
       "      <th></th>\n",
       "      <th>image_folder</th>\n",
       "      <th>image_file</th>\n",
       "      <th>crop_index</th>\n",
       "      <th>crop_class</th>\n",
       "      <th>xmin</th>\n",
       "      <th>ymin</th>\n",
       "      <th>xmax</th>\n",
       "      <th>ymax</th>\n",
       "    </tr>\n",
       "  </thead>\n",
       "  <tbody>\n",
       "    <tr>\n",
       "      <th>0</th>\n",
       "      <td>ALB</td>\n",
       "      <td>img_00003.jpg</td>\n",
       "      <td>0.0</td>\n",
       "      <td>ALB</td>\n",
       "      <td>377.0</td>\n",
       "      <td>66.0</td>\n",
       "      <td>730.0</td>\n",
       "      <td>173.0</td>\n",
       "    </tr>\n",
       "    <tr>\n",
       "      <th>1</th>\n",
       "      <td>ALB</td>\n",
       "      <td>img_00003.jpg</td>\n",
       "      <td>1.0</td>\n",
       "      <td>ALB</td>\n",
       "      <td>670.0</td>\n",
       "      <td>95.0</td>\n",
       "      <td>1008.0</td>\n",
       "      <td>219.0</td>\n",
       "    </tr>\n",
       "    <tr>\n",
       "      <th>2</th>\n",
       "      <td>ALB</td>\n",
       "      <td>img_00003.jpg</td>\n",
       "      <td>2.0</td>\n",
       "      <td>ALB</td>\n",
       "      <td>820.0</td>\n",
       "      <td>328.0</td>\n",
       "      <td>1123.0</td>\n",
       "      <td>485.0</td>\n",
       "    </tr>\n",
       "  </tbody>\n",
       "</table>\n",
       "</div>"
      ],
      "text/plain": [
       "  image_folder     image_file  crop_index crop_class   xmin   ymin    xmax  \\\n",
       "0          ALB  img_00003.jpg         0.0        ALB  377.0   66.0   730.0   \n",
       "1          ALB  img_00003.jpg         1.0        ALB  670.0   95.0  1008.0   \n",
       "2          ALB  img_00003.jpg         2.0        ALB  820.0  328.0  1123.0   \n",
       "\n",
       "    ymax  \n",
       "0  173.0  \n",
       "1  219.0  \n",
       "2  485.0  "
      ]
     },
     "execution_count": 47,
     "metadata": {},
     "output_type": "execute_result"
    }
   ],
   "source": [
    "chk_folder = 'train'\n",
    "refresh_directory_structure('check', [chk_folder])\n",
    "# Now look at the training images\n",
    "file_name = 'GTbbox_df.pickle'\n",
    "if os.path.exists('../data/'+file_name):\n",
    "    print ('Loading from file '+file_name)\n",
    "    GTbbox_df = pd.read_pickle('../data/'+file_name)\n",
    "GTbbox_df.head(3)"
   ]
  },
  {
   "cell_type": "code",
   "execution_count": 50,
   "metadata": {
    "collapsed": false
   },
   "outputs": [],
   "source": [
    "for index, row in GTbbox_df.iterrows():\n",
    "    row = row.tolist()\n",
    "    image_file = os.path.join(row[0], row[1])\n",
    "    fish = row[3]\n",
    "    bbox = row[4:8]\n",
    "    cropped = load_img(os.path.join('../data/fish/train-all',image_file),bbox,target_size=(ROWS,COLS))\n",
    "    cropped.save(os.path.join(path, 'check', chk_folder, row[1]))"
   ]
  },
  {
   "cell_type": "code",
   "execution_count": null,
   "metadata": {
    "collapsed": true
   },
   "outputs": [],
   "source": [
    "def load_img2(path, bbox, target_size=None):\n",
    "    img = Image.open(path)\n",
    "    imsize = Image.open(path).size\n",
    "    height, width = bbox[2]-bbox[0], bbox[3]-bbox[1]\n",
    "    length = max(height, width)\n",
    "    for i in [0,1]:\n",
    "        if bbox[0+i]+length > imsize[0+i]:\n",
    "            bbox[0+i] = bbox[2+i] - length\n",
    "        else:\n",
    "            bbox[2+i] = bbox[0+i] + length\n",
    "    img = img.convert('RGB')\n",
    "    cropped = img.crop((bbox[0],bbox[1],bbox[2],bbox[3]))\n",
    "    if target_size:\n",
    "        cropped = cropped.resize((target_size[1], target_size[0]))\n",
    "    return cropped"
   ]
  },
  {
   "cell_type": "code",
   "execution_count": 56,
   "metadata": {
    "collapsed": false
   },
   "outputs": [
    {
     "data": {
      "text/plain": [
       "1280"
      ]
     },
     "execution_count": 56,
     "metadata": {},
     "output_type": "execute_result"
    }
   ],
   "source": [
    "image_file = 'ALB/img_00003.jpg'\n",
    "path = os.path.join('../data/fish/train-all',image_file)\n",
    "Image.open(path).size[0]\n"
   ]
  }
 ],
 "metadata": {
  "anaconda-cloud": {},
  "kernelspec": {
   "display_name": "Python [conda root]",
   "language": "python",
   "name": "conda-root-py"
  },
  "language_info": {
   "codemirror_mode": {
    "name": "ipython",
    "version": 2
   },
   "file_extension": ".py",
   "mimetype": "text/x-python",
   "name": "python",
   "nbconvert_exporter": "python",
   "pygments_lexer": "ipython2",
   "version": "2.7.12"
  }
 },
 "nbformat": 4,
 "nbformat_minor": 1
}
