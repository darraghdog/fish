{
 "cells": [
  {
   "cell_type": "code",
   "execution_count": 21,
   "metadata": {
    "collapsed": false
   },
   "outputs": [],
   "source": [
    "# Read in Libraries\n",
    "from __future__ import division, print_function\n",
    "from logbook import Logger, StreamHandler\n",
    "import sys\n",
    "StreamHandler(sys.stdout).push_application()\n",
    "log = Logger('Logbook')\n",
    "import shutil, csv, time\n",
    "timestr = time.strftime(\"%Y%m%d\")\n",
    "import ujson as json\n",
    "import utils; reload(utils)\n",
    "from utils import *\n",
    "import gc\n",
    "# from __future__ import division, print_function\n",
    "from theano.sandbox import cuda\n",
    "from vgg16bn import Vgg16BN\n",
    "from sklearn import metrics\n",
    "%matplotlib inline\n",
    "\n",
    "def accuracyfunc(y_act, y_pred):\n",
    "    return metrics.accuracy_score(np.argmax(y_act, axis=1), np.argmax(y_pred, axis=1))\n",
    "    \n",
    "def refresh_directory_structure(name, sub_dirs):\n",
    "    gdir = os.path.join(path, name)\n",
    "    if os.path.exists(gdir):\n",
    "        shutil.rmtree(gdir)\n",
    "    os.makedirs(gdir)\n",
    "    for sub_dir in sub_dirs:\n",
    "        os.makedirs(os.path.join(gdir, sub_dir))"
   ]
  },
  {
   "cell_type": "code",
   "execution_count": 22,
   "metadata": {
    "collapsed": false
   },
   "outputs": [
    {
     "name": "stdout",
     "output_type": "stream",
     "text": [
      "[2017-03-12 13:48:15.392958] INFO: Logbook: Set Paramters\n"
     ]
    }
   ],
   "source": [
    "# Set Parameters and check files\n",
    "refresh_directories = False\n",
    "input_exists = True\n",
    "full = False\n",
    "augment = False\n",
    "log.info('Set Paramters')\n",
    "path = \"../data/fish/crop/\"\n",
    "batch_size=32\n",
    "clip = 0.99\n",
    "bags = 1\n",
    "load_size = (300,300) #(360, 640)\n",
    "aug_batches = 1"
   ]
  },
  {
   "cell_type": "code",
   "execution_count": 23,
   "metadata": {
    "collapsed": false
   },
   "outputs": [
    {
     "name": "stdout",
     "output_type": "stream",
     "text": [
      "[2017-03-12 13:48:15.406670] INFO: Logbook: Get VGG\n"
     ]
    },
    {
     "name": "stderr",
     "output_type": "stream",
     "text": [
      "/home/ubuntu/anaconda2/lib/python2.7/site-packages/keras/layers/core.py:622: UserWarning: `output_shape` argument not specified for layer lambda_4 and cannot be automatically inferred with the Theano backend. Defaulting to output shape `(None, 3, 224, 224)` (same as input shape). If the expected output shape is different, specify it via the `output_shape` argument.\n",
      "  .format(self.name, input_shape))\n"
     ]
    },
    {
     "name": "stdout",
     "output_type": "stream",
     "text": [
      "[2017-03-12 13:48:18.195594] INFO: Logbook: Create VGG\n"
     ]
    },
    {
     "name": "stderr",
     "output_type": "stream",
     "text": [
      "/home/ubuntu/anaconda2/lib/python2.7/site-packages/keras/layers/core.py:622: UserWarning: `output_shape` argument not specified for layer lambda_5 and cannot be automatically inferred with the Theano backend. Defaulting to output shape `(None, 3, 300, 300)` (same as input shape). If the expected output shape is different, specify it via the `output_shape` argument.\n",
      "  .format(self.name, input_shape))\n"
     ]
    },
    {
     "name": "stdout",
     "output_type": "stream",
     "text": [
      "Found 2685 images belonging to 8 classes.\n",
      "Found 622 images belonging to 8 classes.\n",
      "Found 694 images belonging to 1 classes.\n",
      "[2017-03-12 13:48:18.637583] INFO: Logbook: Read filenames\n"
     ]
    }
   ],
   "source": [
    "# Read in our VGG pretrained model\n",
    "log.info('Get VGG')\n",
    "model = vgg_ft_bn(8)\n",
    "\n",
    "# Create our VGG model\n",
    "log.info('Create VGG')\n",
    "vgg640 = Vgg16BN(load_size).model\n",
    "vgg640.pop()\n",
    "vgg640.input_shape, vgg640.output_shape\n",
    "vgg640.compile(Adam(), 'categorical_crossentropy', metrics=['accuracy'])\n",
    "\n",
    "# get labels\n",
    "(val_classes, trn_classes, val_labels, trn_labels,\n",
    "    val_filenames, filenames, test_filenames) = get_classes(path)\n",
    "\n",
    "# Read in filenames\n",
    "log.info('Read filenames')\n",
    "raw_filenames = [f.split('/')[-1] for f in filenames]\n",
    "raw_test_filenames = [f.split('/')[-1] for f in test_filenames]\n",
    "raw_val_filenames = [f.split('/')[-1] for f in val_filenames]"
   ]
  },
  {
   "cell_type": "code",
   "execution_count": 24,
   "metadata": {
    "collapsed": false
   },
   "outputs": [
    {
     "name": "stdout",
     "output_type": "stream",
     "text": [
      "Found 622 images belonging to 8 classes.\n",
      "Found 2685 images belonging to 8 classes.\n",
      "Found 694 images belonging to 1 classes.\n"
     ]
    },
    {
     "data": {
      "text/plain": [
       "52892"
      ]
     },
     "execution_count": 24,
     "metadata": {},
     "output_type": "execute_result"
    }
   ],
   "source": [
    "gen_t = image.ImageDataGenerator(rotation_range=180, height_shift_range=0.05, horizontal_flip=True,\n",
    "                                 # zoom_range=0.2,\n",
    "                shear_range=0.05, channel_shift_range=20, width_shift_range=0.05)\n",
    "da_val_batches = get_batches(path+'valid', gen_t, batch_size=batch_size, shuffle=False, target_size=load_size)\n",
    "da_trn_batches = get_batches(path+'train', gen_t, batch_size=batch_size, shuffle=False, target_size=load_size)\n",
    "da_tst_batches = get_batches(path+'test', gen_t, batch_size=batch_size, shuffle=False, target_size=load_size)\n",
    "gc.collect()"
   ]
  },
  {
   "cell_type": "code",
   "execution_count": 25,
   "metadata": {
    "collapsed": false
   },
   "outputs": [
    {
     "name": "stdout",
     "output_type": "stream",
     "text": [
      "[2017-03-12 13:48:19.250856] INFO: Logbook: Read in data\n"
     ]
    }
   ],
   "source": [
    "log.info('Read in data')\n",
    "if not input_exists:\n",
    "    \n",
    "    # Fetch our large images \n",
    "    # Precompute the output of the convolutional part of VGG\n",
    "    log.info('Fetch images')\n",
    "    log.info('Get VGG output')\n",
    "    log.info('Write VGG output')\n",
    "    \n",
    "    #log.info('Save Val Weights')\n",
    "    da_conv_val_feat = vgg640.predict_generator(da_val_batches, da_val_batches.nb_sample*aug_batches)\n",
    "    save_array(path+'../results/da_conv_val_feat.dat', da_conv_val_feat)\n",
    "    del da_conv_val_feat\n",
    "    gc.collect()\n",
    "    \n",
    "    #log.info('Save Trn Weights')\n",
    "    da_conv_trn_feat = vgg640.predict_generator(da_trn_batches, da_trn_batches.nb_sample*aug_batches)\n",
    "    save_array(path+'../results/da_conv_trn_feat.dat', da_conv_trn_feat)\n",
    "    del da_conv_trn_feat\n",
    "    gc.collect()\n",
    "    \n",
    "    val = get_data(path+'valid', load_size)\n",
    "    conv_val_feat = vgg640.predict(val, batch_size=16, verbose=1)\n",
    "    save_array(path+'../results/dano_conv_val_feat.dat', conv_val_feat)\n",
    "    del val, conv_val_feat\n",
    "    gc.collect()\n",
    "    \n",
    "    test = get_data(path+'test', load_size)\n",
    "    conv_test_feat = vgg640.predict(test, batch_size=16, verbose=1)\n",
    "    save_array(path+'../results/dano_conv_test_feat.dat', conv_test_feat)     \n",
    "    del test, conv_test_feat\n",
    "    gc.collect()\n",
    "    gc.collect()\n",
    "    \n",
    "    trn = get_data(path+'train', load_size)\n",
    "    conv_trn_feat = vgg640.predict(trn, batch_size=16, verbose=1)    \n",
    "    del trn\n",
    "    gc.collect()\n",
    "    save_array(path+'../results/dano_conv_trn_feat.dat', conv_trn_feat) \n",
    "    del conv_trn_feat\n",
    "    gc.collect()\n",
    "    \n",
    "    # For memory purposes delete out the original train and validation\n",
    "    log.info('Clear up memory')\n",
    "    #del trn, val, test\n",
    "    gc.collect()\n",
    "    gc.collect()"
   ]
  },
  {
   "cell_type": "code",
   "execution_count": 26,
   "metadata": {
    "collapsed": false
   },
   "outputs": [
    {
     "ename": "NameError",
     "evalue": "name 'augment' is not defined",
     "output_type": "error",
     "traceback": [
      "\u001b[0;31m\u001b[0m",
      "\u001b[0;31mNameError\u001b[0mTraceback (most recent call last)",
      "\u001b[0;32m<ipython-input-26-1eaa631e434e>\u001b[0m in \u001b[0;36m<module>\u001b[0;34m()\u001b[0m\n\u001b[1;32m      1\u001b[0m \u001b[0;31m# Let's include the real training data as well in its non-augmented form.\u001b[0m\u001b[0;34m\u001b[0m\u001b[0;34m\u001b[0m\u001b[0m\n\u001b[0;32m----> 2\u001b[0;31m \u001b[0;32mif\u001b[0m \u001b[0maugment\u001b[0m\u001b[0;34m:\u001b[0m\u001b[0;34m\u001b[0m\u001b[0m\n\u001b[0m\u001b[1;32m      3\u001b[0m     \u001b[0mda_conv_trn_feat\u001b[0m \u001b[0;34m=\u001b[0m \u001b[0mload_array\u001b[0m\u001b[0;34m(\u001b[0m\u001b[0mpath\u001b[0m\u001b[0;34m+\u001b[0m\u001b[0;34m'../results/da_conv_trn_feat.dat'\u001b[0m\u001b[0;34m)\u001b[0m\u001b[0;34m\u001b[0m\u001b[0m\n\u001b[1;32m      4\u001b[0m     \u001b[0mdano_conv_trn_feat\u001b[0m \u001b[0;34m=\u001b[0m \u001b[0mload_array\u001b[0m\u001b[0;34m(\u001b[0m\u001b[0mpath\u001b[0m\u001b[0;34m+\u001b[0m\u001b[0;34m'../results/dano_conv_trn_feat.dat'\u001b[0m\u001b[0;34m)\u001b[0m\u001b[0;34m\u001b[0m\u001b[0m\n\u001b[1;32m      5\u001b[0m     \u001b[0mgc\u001b[0m\u001b[0;34m.\u001b[0m\u001b[0mcollect\u001b[0m\u001b[0;34m(\u001b[0m\u001b[0;34m)\u001b[0m\u001b[0;34m\u001b[0m\u001b[0m\n",
      "\u001b[0;31mNameError\u001b[0m: name 'augment' is not defined"
     ]
    }
   ],
   "source": [
    "# Let's include the real training data as well in its non-augmented form.\n",
    "if augment:\n",
    "    da_conv_trn_feat = load_array(path+'../results/da_conv_trn_feat.dat')\n",
    "    dano_conv_trn_feat = load_array(path+'../results/dano_conv_trn_feat.dat')\n",
    "    gc.collect()\n",
    "    da_conv_trn_feat = np.concatenate([da_conv_trn_feat, dano_conv_trn_feat])\n",
    "    del dano_conv_trn_feat \n",
    "    gc.collect()\n",
    "\n",
    "    # Validation set shouldonly be augmented for a full run\n",
    "    da_conv_val_feat = load_array(path+'../results/dano_conv_val_feat.dat')\n",
    "    if full:\n",
    "        dano_conv_val_feat = load_array(path+'../results/da_conv_val_feat.dat')\n",
    "        da_conv_val_feat = np.concatenate([da_conv_val_feat, dano_conv_val_feat])\n",
    "        del dano_conv_val_feat \n",
    "        gc.collect()\n",
    "else:\n",
    "    da_conv_trn_feat = load_array(path+'../results/dano_conv_trn_feat.dat')\n",
    "    da_conv_val_feat = load_array(path+'../results/dano_conv_val_feat.dat')\n",
    "\n",
    "        \n",
    "conv_test_feat = load_array(path+'../results/dano_conv_test_feat.dat')"
   ]
  },
  {
   "cell_type": "code",
   "execution_count": null,
   "metadata": {
    "collapsed": false
   },
   "outputs": [],
   "source": [
    "if augment:\n",
    "    # Since we've now got a dataset 3x bigger than before, we'll need to copy our labels 6 times too.\n",
    "    da_trn_labels = np.concatenate([trn_labels]*(aug_batches + 1))\n",
    "    #da_trn_bbox = np.concatenate([trn_bbox]*(aug_batches + 1))\n",
    "\n",
    "    # Validation set shouldonly be augmented for a full run\n",
    "    if full:\n",
    "        da_val_labels = np.concatenate([val_labels]*(aug_batches + 1))\n",
    "        #da_val_bbox = np.concatenate([val_bbox]*(aug_batches + 1))\n",
    "    else:\n",
    "        da_val_labels = val_labels\n",
    "        #da_val_bbox = val_bbox\n",
    "else:\n",
    "    da_trn_labels = trn_labels \n",
    "    da_val_labels = val_labels"
   ]
  },
  {
   "cell_type": "code",
   "execution_count": null,
   "metadata": {
    "collapsed": false
   },
   "outputs": [],
   "source": [
    "classes = ['ALB', 'BET', 'DOL', 'LAG', 'NoF', 'OTHER', 'SHARK', 'YFT']\n",
    "def fish_only(mat):\n",
    "    return np.delete(mat, 4, axis=1)\n",
    "\n",
    "trn_of_labels = fish_only(da_trn_labels)\n",
    "val_of_labels = fish_only(da_val_labels)"
   ]
  },
  {
   "cell_type": "code",
   "execution_count": null,
   "metadata": {
    "collapsed": false
   },
   "outputs": [],
   "source": [
    "trn_of_labels"
   ]
  },
  {
   "cell_type": "code",
   "execution_count": null,
   "metadata": {
    "collapsed": false
   },
   "outputs": [],
   "source": [
    "if full:\n",
    "    da_conv_trn_feat = np.concatenate([da_conv_trn_feat, da_conv_val_feat])\n",
    "    trn_of_labels = np.concatenate([trn_of_labels, val_of_labels]) \n",
    "    #trn_bbox = np.concatenate([trn_bbox, val_bbox])\n",
    "    \n",
    "# Our Convolutional Net Architecture\n",
    "log.info('Create and fit CNN')\n",
    "p=0.6\n",
    "# Set up the fully convolutional net (FCN); \n",
    "conv_layers,_ = split_at(vgg640, Convolution2D)\n",
    "nf=128; p=0. # No dropout"
   ]
  },
  {
   "cell_type": "code",
   "execution_count": null,
   "metadata": {
    "collapsed": false
   },
   "outputs": [],
   "source": [
    "conv_layers[-1].output_shape[1:]"
   ]
  },
  {
   "cell_type": "code",
   "execution_count": null,
   "metadata": {
    "collapsed": false
   },
   "outputs": [],
   "source": [
    "def create_model():\n",
    "    inp = Input(conv_layers[-1].output_shape[1:])\n",
    "    x = BatchNormalization(axis=1)(inp)\n",
    "    x = MaxPooling2D()(x)\n",
    "    x =   Dropout(p)(x)\n",
    "    x = Convolution2D(nf,3,3, activation='relu', border_mode='same')(x)\n",
    "    x = BatchNormalization(axis=1)(x)\n",
    "    x = MaxPooling2D()(x)\n",
    "    x =   Convolution2D(7,3,3, border_mode='same')(x)\n",
    "    x =   Dropout(p)(x)\n",
    "    x =   GlobalAveragePooling2D()(x)\n",
    "    x_class = Dense(7, activation='softmax', name='class')(x)\n",
    "    \n",
    "    \n",
    "    return inp, x_class\n",
    "\n",
    "gc.collect()\n",
    "nf = 512\n",
    "p  = 0.5\n",
    "batch_size=128\n",
    "\n",
    "model, predsls, pvalsls = [], [], []\n",
    "\n",
    "for ii in range(10):\n",
    "    inp, x_class = create_model()\n",
    "    model.append(Model([inp], [x_class]))\n",
    "    model[ii].compile(Adam(lr=1e-3), loss=['categorical_crossentropy'], metrics=['accuracy']) # , decay=1e-6\n",
    "    #model[ii].summary()\n",
    "    model[ii].fit(da_conv_trn_feat, [trn_of_labels], batch_size=batch_size, nb_epoch=3, \n",
    "                 validation_data=(da_conv_val_feat, [val_of_labels]))\n",
    "    \n",
    "    model[ii].optimizer.lr = 1e-4\n",
    "    model[ii].fit(da_conv_trn_feat, [trn_of_labels], batch_size=batch_size, nb_epoch=2, \n",
    "                 validation_data=(da_conv_val_feat, [val_of_labels]))\n",
    "    count = 0\n",
    "    while count < 2:\n",
    "        model[ii].fit(da_conv_trn_feat, [trn_of_labels], batch_size=batch_size, nb_epoch=1, \n",
    "                     validation_data=(da_conv_val_feat, [val_of_labels]))\n",
    "        predsls.append(model[ii].predict(conv_test_feat, batch_size=batch_size)) # or try 32 batch_size\n",
    "        pvalsls.append(model[ii].predict(da_conv_val_feat, batch_size=batch_size))\n",
    "        val_score = \"%.3f\" % metrics.log_loss(val_of_labels, sum(pvalsls)/len(pvalsls))\n",
    "        #acc_score = \"%.3f\" % accuracyfunc(val_of_labels, do_clip(sum(pvalsls)/len(pvalsls), clip))\n",
    "        log.info('Bagged Validation Logloss ' + str(val_score))\n",
    "        #log.info('Bagged Validation Accuracy ' + str(acc_score))\n",
    "        count += 1\n",
    "    \n",
    "    model[ii].optimizer.lr = 1e-5\n",
    "    model[ii].fit(da_conv_trn_feat, [trn_of_labels], batch_size=batch_size, nb_epoch=2, \n",
    "                 validation_data=(da_conv_val_feat, [val_of_labels]))\n",
    "    count = 0\n",
    "    while count < 2:\n",
    "        model[ii].fit(da_conv_trn_feat, [trn_of_labels], batch_size=batch_size, nb_epoch=1, \n",
    "                     validation_data=(da_conv_val_feat, [val_of_labels]))\n",
    "        predsls.append(model[ii].predict(conv_test_feat, batch_size=batch_size)) # or try 32 batch_size\n",
    "        pvalsls.append(model[ii].predict(da_conv_val_feat, batch_size=batch_size))\n",
    "        val_score = \"%.3f\" % metrics.log_loss(val_of_labels, sum(pvalsls)/len(pvalsls))\n",
    "        #acc_score = \"%.3f\" % accuracyfunc(val_of_labels, do_clip(sum(pvalsls)/len(pvalsls), clip))\n",
    "        log.info('Bagged Validation Logloss ' + str(val_score))\n",
    "        #log.info('Bagged Validation Accuracy ' + str(acc_score))\n",
    "        count += 1\n",
    "        \n",
    "        \n",
    "    model[ii].optimizer.lr = 1e-6\n",
    "    model[ii].fit(da_conv_trn_feat, [trn_of_labels], batch_size=batch_size, nb_epoch=2, \n",
    "                 validation_data=(da_conv_val_feat, [val_of_labels]))\n",
    "    count = 0\n",
    "    while count < 2:\n",
    "        model[ii].fit(da_conv_trn_feat, [trn_of_labels], batch_size=batch_size, nb_epoch=1, \n",
    "                     validation_data=(da_conv_val_feat, [val_of_labels]))\n",
    "        predsls.append(model[ii].predict(conv_test_feat, batch_size=batch_size)) # or try 32 batch_size\n",
    "        pvalsls.append(model[ii].predict(da_conv_val_feat, batch_size=batch_size))\n",
    "        val_score = \"%.3f\" % metrics.log_loss(val_of_labels, sum(pvalsls)/len(pvalsls))\n",
    "        #acc_score = \"%.3f\" % accuracyfunc(val_of_labels, do_clip(sum(pvalsls)/len(pvalsls), clip))\n",
    "        log.info('Bagged Validation Logloss ' + str(val_score))\n",
    "        #log.info('Bagged Validation Accuracy ' + str(acc_score))\n",
    "        count += 1"
   ]
  },
  {
   "cell_type": "code",
   "execution_count": null,
   "metadata": {
    "collapsed": false
   },
   "outputs": [],
   "source": [
    "# metrics.log_loss(val_labels, do_clip(sum(pvalsls)/len(pvalsls), .9999))\n",
    "preds = sum(predsls)/len(predsls)\n",
    "subm = do_clip(preds, clip)\n",
    "\n",
    "if full:\n",
    "    subm_name = path+'../results/subm_full_crop_of_' + timestr + '.csv' #'.csv.gz'\n",
    "else:\n",
    "    subm_name = path+'../results/subm_part_crop_of_' + timestr + '.csv' #'.csv.gz'\n",
    "\n",
    "classes = ['ALB', 'BET', 'DOL', 'LAG', 'OTHER', 'SHARK', 'YFT']\n",
    "submission = pd.DataFrame(subm, columns=classes)\n",
    "submission.insert(0, 'image', raw_test_filenames)\n",
    "submission.to_csv(subm_name, index=False)#, compression='gzip')\n",
    "log.info('Done - files @ ' + subm_name)"
   ]
  },
  {
   "cell_type": "code",
   "execution_count": null,
   "metadata": {
    "collapsed": true
   },
   "outputs": [],
   "source": []
  },
  {
   "cell_type": "code",
   "execution_count": null,
   "metadata": {
    "collapsed": false
   },
   "outputs": [],
   "source": [
    "FileLink(subm_name)"
   ]
  }
 ],
 "metadata": {
  "anaconda-cloud": {},
  "kernelspec": {
   "display_name": "Python [conda root]",
   "language": "python",
   "name": "conda-root-py"
  },
  "language_info": {
   "codemirror_mode": {
    "name": "ipython",
    "version": 2
   },
   "file_extension": ".py",
   "mimetype": "text/x-python",
   "name": "python",
   "nbconvert_exporter": "python",
   "pygments_lexer": "ipython2",
   "version": "2.7.12"
  }
 },
 "nbformat": 4,
 "nbformat_minor": 1
}
