{
 "cells": [
  {
   "cell_type": "code",
   "execution_count": 1,
   "metadata": {
    "collapsed": false
   },
   "outputs": [
    {
     "name": "stderr",
     "output_type": "stream",
     "text": [
      "Using Theano backend.\n",
      "Using gpu device 0: Tesla K80 (CNMeM is disabled, cuDNN 5103)\n",
      "/home/ubuntu/anaconda2/lib/python2.7/site-packages/theano/sandbox/cuda/__init__.py:600: UserWarning: Your cuDNN version is more recent than the one Theano officially supports. If you see any problems, try updating Theano or downgrading cuDNN to version 5.\n",
      "  warnings.warn(warn)\n"
     ]
    }
   ],
   "source": [
    "# Read in Libraries\n",
    "from __future__ import division, print_function\n",
    "from logbook import Logger, StreamHandler\n",
    "import sys\n",
    "StreamHandler(sys.stdout).push_application()\n",
    "log = Logger('Logbook')\n",
    "import shutil, csv, time\n",
    "timestr = time.strftime(\"%Y%m%d\")\n",
    "import ujson as json\n",
    "from keras.layers.advanced_activations import LeakyReLU\n",
    "import utils; reload(utils)\n",
    "from utils import *\n",
    "import gc\n",
    "# from __future__ import division, print_function\n",
    "from theano.sandbox import cuda\n",
    "from vgg16bn import Vgg16BN\n",
    "from sklearn import metrics\n",
    "%matplotlib inline\n",
    "\n",
    "def accuracyfunc(y_act, y_pred):\n",
    "    return metrics.accuracy_score(np.argmax(y_act, axis=1), np.argmax(y_pred, axis=1))\n",
    "    \n",
    "def refresh_directory_structure(name, sub_dirs):\n",
    "    gdir = os.path.join(path, name)\n",
    "    if os.path.exists(gdir):\n",
    "        shutil.rmtree(gdir)\n",
    "    os.makedirs(gdir)\n",
    "    for sub_dir in sub_dirs:\n",
    "        os.makedirs(os.path.join(gdir, sub_dir))\n"
   ]
  },
  {
   "cell_type": "code",
   "execution_count": 2,
   "metadata": {
    "collapsed": false
   },
   "outputs": [
    {
     "name": "stdout",
     "output_type": "stream",
     "text": [
      "[2017-03-12 17:47:25.849257] INFO: Logbook: Set Paramters\n"
     ]
    }
   ],
   "source": [
    "# Set Parameters and check files\n",
    "refresh_directories = False\n",
    "input_exists = False\n",
    "full = False\n",
    "log.info('Set Paramters')\n",
    "path = \"../data/fish/\"\n",
    "batch_size=32\n",
    "clip = 0.99\n",
    "bags = 1\n",
    "load_size = (380, 680)# (360, 640) "
   ]
  },
  {
   "cell_type": "code",
   "execution_count": 3,
   "metadata": {
    "collapsed": false
   },
   "outputs": [
    {
     "data": {
      "text/html": [
       "<div>\n",
       "<table border=\"1\" class=\"dataframe\">\n",
       "  <thead>\n",
       "    <tr style=\"text-align: right;\">\n",
       "      <th></th>\n",
       "      <th>fname</th>\n",
       "      <th>dir_from</th>\n",
       "      <th>dir_to</th>\n",
       "    </tr>\n",
       "  </thead>\n",
       "  <tbody>\n",
       "    <tr>\n",
       "      <th>0</th>\n",
       "      <td>img_00028</td>\n",
       "      <td>NoF</td>\n",
       "      <td>ALB</td>\n",
       "    </tr>\n",
       "    <tr>\n",
       "      <th>1</th>\n",
       "      <td>img_00076</td>\n",
       "      <td>NoF</td>\n",
       "      <td>ALB</td>\n",
       "    </tr>\n",
       "    <tr>\n",
       "      <th>2</th>\n",
       "      <td>img_00248</td>\n",
       "      <td>ALB</td>\n",
       "      <td>OTHER</td>\n",
       "    </tr>\n",
       "  </tbody>\n",
       "</table>\n",
       "</div>"
      ],
      "text/plain": [
       "       fname dir_from dir_to\n",
       "0  img_00028      NoF    ALB\n",
       "1  img_00076      NoF    ALB\n",
       "2  img_00248      ALB  OTHER"
      ]
     },
     "execution_count": 3,
     "metadata": {},
     "output_type": "execute_result"
    }
   ],
   "source": [
    "relabels = pd.read_csv(\"../data/fish/relabel/relabels.csv\", sep = \" \", header = None, names = [\"fname\", \"dir_from\", \"dir_to\"])\n",
    "relabels.head(3)"
   ]
  },
  {
   "cell_type": "code",
   "execution_count": 4,
   "metadata": {
    "collapsed": false
   },
   "outputs": [
    {
     "data": {
      "text/plain": [
       "True"
      ]
     },
     "execution_count": 4,
     "metadata": {},
     "output_type": "execute_result"
    }
   ],
   "source": [
    "subdir2 = relabels[relabels.fname == 'img_00739.jpg'.split('.')[0]].values.tolist()[0][2]\n",
    "subdir2 == 'revise'"
   ]
  },
  {
   "cell_type": "code",
   "execution_count": 5,
   "metadata": {
    "collapsed": false
   },
   "outputs": [],
   "source": [
    "# Create the test and valid directory\n",
    "if refresh_directories:\n",
    "    log.info('Create directory structure and validation files')\n",
    "    sub_dirs = os.listdir(os.path.join(path, 'train-all'))\n",
    "    if '.DS_Store' in sub_dirs: sub_dirs.remove('.DS_Store')\n",
    "    refresh_directory_structure('relabel/train', sub_dirs)\n",
    "    refresh_directory_structure('relabel/valid', sub_dirs)\n",
    "    for c,row in enumerate(csv.DictReader(open('../image_validation_set.csv'))):\n",
    "        value = 'relabel/valid' if row['Validation'] == '1' else 'relabel/train'\n",
    "        subdir1 = row['SubDirectory']\n",
    "        subdir2 = row['SubDirectory']\n",
    "        if row['file_name'].split('.')[0] in relabels.fname.values.tolist():\n",
    "            subdir2 = relabels[relabels.fname == row['file_name'].split('.')[0]].values.tolist()[0][2]\n",
    "            print(relabels[relabels.fname == row['file_name'].split('.')[0]].values.tolist())\n",
    "        name_from = os.path.join(path, 'train-all', subdir1, row['file_name'])\n",
    "        if subdir2 == 'revise':\n",
    "            name_to   = os.path.join(path, 'relabel/revise', row['file_name'])\n",
    "            #print(os.path.join(path, value, subdir2, row['file_name']))\n",
    "        else:\n",
    "            name_to   = os.path.join(path, value, subdir2, row['file_name'])\n",
    "            #print(os.path.join(path, value, subdir2, row['file_name']))\n",
    "        shutil.copyfile(name_from, name_to)\n",
    "        "
   ]
  },
  {
   "cell_type": "code",
   "execution_count": 6,
   "metadata": {
    "collapsed": false
   },
   "outputs": [
    {
     "name": "stdout",
     "output_type": "stream",
     "text": [
      "[2017-03-12 17:47:25.903071] INFO: Logbook: Get VGG\n"
     ]
    },
    {
     "name": "stderr",
     "output_type": "stream",
     "text": [
      "/home/ubuntu/anaconda2/lib/python2.7/site-packages/keras/layers/core.py:622: UserWarning: `output_shape` argument not specified for layer lambda_1 and cannot be automatically inferred with the Theano backend. Defaulting to output shape `(None, 3, 224, 224)` (same as input shape). If the expected output shape is different, specify it via the `output_shape` argument.\n",
      "  .format(self.name, input_shape))\n"
     ]
    },
    {
     "name": "stdout",
     "output_type": "stream",
     "text": [
      "[2017-03-12 17:47:28.811652] INFO: Logbook: Create VGG\n"
     ]
    },
    {
     "name": "stderr",
     "output_type": "stream",
     "text": [
      "/home/ubuntu/anaconda2/lib/python2.7/site-packages/keras/layers/core.py:622: UserWarning: `output_shape` argument not specified for layer lambda_2 and cannot be automatically inferred with the Theano backend. Defaulting to output shape `(None, 3, 380, 680)` (same as input shape). If the expected output shape is different, specify it via the `output_shape` argument.\n",
      "  .format(self.name, input_shape))\n"
     ]
    },
    {
     "name": "stdout",
     "output_type": "stream",
     "text": [
      "Found 3070 images belonging to 8 classes.\n",
      "Found 689 images belonging to 8 classes.\n",
      "Found 1000 images belonging to 1 classes.\n",
      "[2017-03-12 17:47:29.451180] INFO: Logbook: Read filenames\n"
     ]
    }
   ],
   "source": [
    "# Read in our VGG pretrained model\n",
    "log.info('Get VGG')\n",
    "model = vgg_ft_bn(8)\n",
    "\n",
    "# Create our VGG model\n",
    "log.info('Create VGG')\n",
    "vgg640 = Vgg16BN(load_size).model\n",
    "vgg640.pop()\n",
    "vgg640.input_shape, vgg640.output_shape\n",
    "vgg640.compile(Adam(), 'categorical_crossentropy', metrics=['accuracy'])\n",
    "\n",
    "# get labels\n",
    "(val_classes, trn_classes, val_labels, trn_labels,\n",
    "    val_filenames, filenames, test_filenames) = get_classes(path+\"relabel/\")\n",
    "\n",
    "# Read in filenames\n",
    "log.info('Read filenames')\n",
    "raw_filenames = [f.split('/')[-1] for f in filenames]\n",
    "raw_test_filenames = [f.split('/')[-1] for f in test_filenames]\n",
    "raw_val_filenames = [f.split('/')[-1] for f in val_filenames]"
   ]
  },
  {
   "cell_type": "code",
   "execution_count": 7,
   "metadata": {
    "collapsed": false
   },
   "outputs": [
    {
     "name": "stdout",
     "output_type": "stream",
     "text": [
      "____________________________________________________________________________________________________\n",
      "Layer (type)                     Output Shape          Param #     Connected to                     \n",
      "====================================================================================================\n",
      "lambda_2 (Lambda)                (None, 3, 380, 680)   0           lambda_input_2[0][0]             \n",
      "____________________________________________________________________________________________________\n",
      "zeropadding2d_14 (ZeroPadding2D) (None, 3, 382, 682)   0           lambda_2[0][0]                   \n",
      "____________________________________________________________________________________________________\n",
      "convolution2d_14 (Convolution2D) (None, 64, 380, 680)  1792        zeropadding2d_14[0][0]           \n",
      "____________________________________________________________________________________________________\n",
      "zeropadding2d_15 (ZeroPadding2D) (None, 64, 382, 682)  0           convolution2d_14[0][0]           \n",
      "____________________________________________________________________________________________________\n",
      "convolution2d_15 (Convolution2D) (None, 64, 380, 680)  36928       zeropadding2d_15[0][0]           \n",
      "____________________________________________________________________________________________________\n",
      "maxpooling2d_6 (MaxPooling2D)    (None, 64, 190, 340)  0           convolution2d_15[0][0]           \n",
      "____________________________________________________________________________________________________\n",
      "zeropadding2d_16 (ZeroPadding2D) (None, 64, 192, 342)  0           maxpooling2d_6[0][0]             \n",
      "____________________________________________________________________________________________________\n",
      "convolution2d_16 (Convolution2D) (None, 128, 190, 340) 73856       zeropadding2d_16[0][0]           \n",
      "____________________________________________________________________________________________________\n",
      "zeropadding2d_17 (ZeroPadding2D) (None, 128, 192, 342) 0           convolution2d_16[0][0]           \n",
      "____________________________________________________________________________________________________\n",
      "convolution2d_17 (Convolution2D) (None, 128, 190, 340) 147584      zeropadding2d_17[0][0]           \n",
      "____________________________________________________________________________________________________\n",
      "maxpooling2d_7 (MaxPooling2D)    (None, 128, 95, 170)  0           convolution2d_17[0][0]           \n",
      "____________________________________________________________________________________________________\n",
      "zeropadding2d_18 (ZeroPadding2D) (None, 128, 97, 172)  0           maxpooling2d_7[0][0]             \n",
      "____________________________________________________________________________________________________\n",
      "convolution2d_18 (Convolution2D) (None, 256, 95, 170)  295168      zeropadding2d_18[0][0]           \n",
      "____________________________________________________________________________________________________\n",
      "zeropadding2d_19 (ZeroPadding2D) (None, 256, 97, 172)  0           convolution2d_18[0][0]           \n",
      "____________________________________________________________________________________________________\n",
      "convolution2d_19 (Convolution2D) (None, 256, 95, 170)  590080      zeropadding2d_19[0][0]           \n",
      "____________________________________________________________________________________________________\n",
      "zeropadding2d_20 (ZeroPadding2D) (None, 256, 97, 172)  0           convolution2d_19[0][0]           \n",
      "____________________________________________________________________________________________________\n",
      "convolution2d_20 (Convolution2D) (None, 256, 95, 170)  590080      zeropadding2d_20[0][0]           \n",
      "____________________________________________________________________________________________________\n",
      "maxpooling2d_8 (MaxPooling2D)    (None, 256, 47, 85)   0           convolution2d_20[0][0]           \n",
      "____________________________________________________________________________________________________\n",
      "zeropadding2d_21 (ZeroPadding2D) (None, 256, 49, 87)   0           maxpooling2d_8[0][0]             \n",
      "____________________________________________________________________________________________________\n",
      "convolution2d_21 (Convolution2D) (None, 512, 47, 85)   1180160     zeropadding2d_21[0][0]           \n",
      "____________________________________________________________________________________________________\n",
      "zeropadding2d_22 (ZeroPadding2D) (None, 512, 49, 87)   0           convolution2d_21[0][0]           \n",
      "____________________________________________________________________________________________________\n",
      "convolution2d_22 (Convolution2D) (None, 512, 47, 85)   2359808     zeropadding2d_22[0][0]           \n",
      "____________________________________________________________________________________________________\n",
      "zeropadding2d_23 (ZeroPadding2D) (None, 512, 49, 87)   0           convolution2d_22[0][0]           \n",
      "____________________________________________________________________________________________________\n",
      "convolution2d_23 (Convolution2D) (None, 512, 47, 85)   2359808     zeropadding2d_23[0][0]           \n",
      "____________________________________________________________________________________________________\n",
      "maxpooling2d_9 (MaxPooling2D)    (None, 512, 23, 42)   0           convolution2d_23[0][0]           \n",
      "____________________________________________________________________________________________________\n",
      "zeropadding2d_24 (ZeroPadding2D) (None, 512, 25, 44)   0           maxpooling2d_9[0][0]             \n",
      "____________________________________________________________________________________________________\n",
      "convolution2d_24 (Convolution2D) (None, 512, 23, 42)   2359808     zeropadding2d_24[0][0]           \n",
      "____________________________________________________________________________________________________\n",
      "zeropadding2d_25 (ZeroPadding2D) (None, 512, 25, 44)   0           convolution2d_24[0][0]           \n",
      "____________________________________________________________________________________________________\n",
      "convolution2d_25 (Convolution2D) (None, 512, 23, 42)   2359808     zeropadding2d_25[0][0]           \n",
      "____________________________________________________________________________________________________\n",
      "zeropadding2d_26 (ZeroPadding2D) (None, 512, 25, 44)   0           convolution2d_25[0][0]           \n",
      "____________________________________________________________________________________________________\n",
      "convolution2d_26 (Convolution2D) (None, 512, 23, 42)   2359808     zeropadding2d_26[0][0]           \n",
      "====================================================================================================\n",
      "Total params: 14,714,688\n",
      "Trainable params: 14,714,688\n",
      "Non-trainable params: 0\n",
      "____________________________________________________________________________________________________\n"
     ]
    }
   ],
   "source": [
    "vgg640.summary()"
   ]
  },
  {
   "cell_type": "code",
   "execution_count": 8,
   "metadata": {
    "collapsed": false
   },
   "outputs": [],
   "source": [
    "folder_anno_in = 'darknet/FISH/annos'\n",
    "# Read in the boxes\n",
    "anno_classes = ['ALB', 'BET', 'DOL', 'LAG', 'OTHER', 'SHARK', 'YFT']\n",
    "tmpdict = {}\n",
    "for c in anno_classes:\n",
    "    j = json.load(open(os.path.join('..', folder_anno_in, '{}.json'.format(c)), 'r'))\n",
    "    for l in j:\n",
    "        if 'annotations' in l.keys() and len(l['annotations'])>0:\n",
    "            tmpdict[l['filename'].split('/')[-1]] = sorted(\n",
    "               l['annotations'], key=lambda x: x['height']*x['width'])[-1]\n",
    "\n",
    "bb_json = {k: tmpdict[k] for k in raw_filenames + raw_val_filenames if k in tmpdict}"
   ]
  },
  {
   "cell_type": "code",
   "execution_count": 9,
   "metadata": {
    "collapsed": false
   },
   "outputs": [],
   "source": [
    "# make it easy to find the nof dots, by putting themin the middle\n",
    "#empty_bbox = {'height': 0., 'width': 0., 'x': 1280/2., 'y': 720/2}\n",
    "empty_bbox = {'height': 0., 'width': 0., 'x': 0., 'y': 0.}\n",
    "\n",
    "for f in raw_filenames:\n",
    "    if not f in bb_json.keys(): bb_json[f] = empty_bbox\n",
    "for f in raw_val_filenames:\n",
    "    if not f in bb_json.keys(): bb_json[f] = empty_bbox"
   ]
  },
  {
   "cell_type": "code",
   "execution_count": 10,
   "metadata": {
    "collapsed": true
   },
   "outputs": [],
   "source": [
    "bb_params = ['height', 'width', 'x', 'y']\n",
    "def convert_bb(bb, size):\n",
    "    bb = [bb[p] for p in bb_params]\n",
    "    conv_x = (load_size[1] / size[0])\n",
    "    conv_y = (load_size[0] / size[1])\n",
    "    bb[0] = bb[0]*conv_y\n",
    "    bb[1] = bb[1]*conv_x\n",
    "    bb[2] = max(bb[2]*conv_x, 0)\n",
    "    bb[3] = max(bb[3]*conv_y, 0)\n",
    "    return bb"
   ]
  },
  {
   "cell_type": "code",
   "execution_count": 11,
   "metadata": {
    "collapsed": false
   },
   "outputs": [],
   "source": [
    "trn_sizes = [PIL.Image.open(path+'relabel/train/'+f).size for f in filenames]\n",
    "val_sizes = [PIL.Image.open(path+'relabel/valid/'+f).size for f in val_filenames]\n",
    "tst_sizes = [PIL.Image.open(path+'relabel/test/'+f).size for f in test_filenames]"
   ]
  },
  {
   "cell_type": "code",
   "execution_count": 12,
   "metadata": {
    "collapsed": false
   },
   "outputs": [],
   "source": [
    "sizes = [PIL.Image.open(path+'relabel/train/'+f).size for f in filenames]\n",
    "raw_val_sizes = [PIL.Image.open(path+'relabel/valid/'+f).size for f in val_filenames]\n",
    "trn_bbox = np.stack([convert_bb(bb_json[f], s) for f,s in zip(raw_filenames, sizes)], \n",
    "                   ).astype(np.float32)\n",
    "val_bbox = np.stack([convert_bb(bb_json[f], s) \n",
    "                   for f,s in zip(raw_val_filenames, raw_val_sizes)]).astype(np.float32)"
   ]
  },
  {
   "cell_type": "code",
   "execution_count": null,
   "metadata": {
    "collapsed": false
   },
   "outputs": [],
   "source": [
    "def create_rect(bb, color='red'):\n",
    "    return plt.Rectangle((bb[2], bb[3]), bb[1], bb[0], color=color, fill=False, lw=3)\n",
    "\n",
    "def show_bb(i):\n",
    "    bb = val_bbox[i]\n",
    "    plot(val[i])\n",
    "    plt.gca().add_patch(create_rect(bb))\n",
    "\n",
    "#val = get_data(path+'relabel/valid', load_size)\n",
    "#show_bb(500)\n",
    "#del val\n",
    "#gc.collect()"
   ]
  },
  {
   "cell_type": "code",
   "execution_count": null,
   "metadata": {
    "collapsed": false
   },
   "outputs": [
    {
     "name": "stdout",
     "output_type": "stream",
     "text": [
      "[2017-03-12 17:47:31.517219] INFO: Logbook: Read in data\n",
      "[2017-03-12 17:47:31.518773] INFO: Logbook: Validation - Fetch images; Get VGG output; Write VGG output\n",
      "Found 689 images belonging to 8 classes.\n"
     ]
    }
   ],
   "source": [
    "log.info('Read in data')\n",
    "if not input_exists:    \n",
    "    log.info('Validation - Fetch images; Get VGG output; Write VGG output')    \n",
    "    val = get_data(path+'relabel/valid', load_size)\n",
    "    conv_val_feat = vgg640.predict(val, batch_size=16, verbose=1)\n",
    "    save_array(path+'results/conv_val_relabel_feat.dat', conv_val_feat)\n",
    "    del val, conv_val_feat\n",
    "    gc.collect()\n",
    "    \n",
    "    log.info('Train - Fetch images; Get VGG output; Write VGG output')\n",
    "    trn = get_data(path+'relabel/train', load_size)\n",
    "    conv_trn_feat = vgg640.predict(trn, batch_size=16, verbose=1)    \n",
    "    del trn\n",
    "    gc.collect()\n",
    "    save_array(path+'results/conv_trn_relabel_feat.dat', conv_trn_feat) \n",
    "    del conv_trn_feat\n",
    "    gc.collect()\n",
    "    \n",
    "    log.info('Test - Fetch images; Get VGG output; Write VGG output')\n",
    "    test = get_data(path+'relabel/test', load_size)\n",
    "    conv_test_feat = vgg640.predict(test, batch_size=16, verbose=1)\n",
    "    save_array(path+'results/conv_test_relabel_feat.dat', conv_test_feat)     \n",
    "    del test, conv_test_feat\n",
    "    gc.collect()"
   ]
  },
  {
   "cell_type": "code",
   "execution_count": null,
   "metadata": {
    "collapsed": false
   },
   "outputs": [],
   "source": [
    "gc.collect()\n",
    "conv_val_feat = load_array(path+'results/conv_val_relabel_feat.dat')\n",
    "conv_trn_feat = load_array(path+'results/conv_trn_relabel_feat.dat') \n",
    "conv_test_feat = load_array(path+'results/conv_test_relabel_feat.dat')"
   ]
  },
  {
   "cell_type": "code",
   "execution_count": null,
   "metadata": {
    "collapsed": false
   },
   "outputs": [],
   "source": [
    "conv_trn_feat.shape"
   ]
  },
  {
   "cell_type": "code",
   "execution_count": null,
   "metadata": {
    "collapsed": false
   },
   "outputs": [],
   "source": [
    "if full:\n",
    "    conv_trn_feat = np.concatenate([conv_trn_feat, conv_val_feat])\n",
    "    trn_labels = np.concatenate([trn_labels, val_labels]) \n",
    "    trn_bbox = np.concatenate([trn_bbox, val_bbox])\n",
    "    \n",
    "# Our Convolutional Net Architecture\n",
    "log.info('Create and fit CNN')\n",
    "p=0.6\n",
    "# Set up the fully convolutional net (FCN); \n",
    "conv_layers,_ = split_at(vgg640, Convolution2D)\n",
    "nf=128; p=0. # No dropout"
   ]
  },
  {
   "cell_type": "code",
   "execution_count": null,
   "metadata": {
    "collapsed": false
   },
   "outputs": [],
   "source": [
    "ftrnid = trn_labels[:,4]==0\n",
    "fvalid = val_labels[:,4]==0"
   ]
  },
  {
   "cell_type": "code",
   "execution_count": null,
   "metadata": {
    "collapsed": false
   },
   "outputs": [],
   "source": [
    "gc.collect()\n",
    "nf = 512\n",
    "p  = 0.5\n",
    "def create_model():\n",
    "    inp = Input(conv_layers[-2].output_shape[1:])\n",
    "    x = MaxPooling2D()(inp)\n",
    "    x = ZeroPadding2D((1,1))(x)\n",
    "    x = Convolution2D(nf,3,3, activation='relu', border_mode='same')(x)\n",
    "    x =   Dropout(p)(x)\n",
    "    x = BatchNormalization(axis=1)(x)\n",
    "    #x = MaxPooling2D()(x)\n",
    "    #x = ZeroPadding2D((1,1))(x)\n",
    "    #x = Convolution2D(nf,3,3, activation='relu', border_mode='same')(x)\n",
    "    #x =   Dropout(p)(x)\n",
    "    #x = BatchNormalization(axis=1)(x)\n",
    "    #x = MaxPooling2D()(x)\n",
    "    #x = ZeroPadding2D((1,1))(x)\n",
    "    #x = Convolution2D(nf,3,3, activation='relu', border_mode='same')(x)\n",
    "    #x =   Dropout(p)(x)\n",
    "    #x = BatchNormalization(axis=1)(x)\n",
    "    x1 =   MaxPooling2D()(x)\n",
    "    x1 =   Convolution2D(8,3,3, border_mode='same')(x1)\n",
    "    x1 =   Dropout(p/2)(x1)\n",
    "    x1 =   GlobalAveragePooling2D()(x1)\n",
    "    x = Dropout(p/2)(x)\n",
    "    x = Flatten()(x)\n",
    "    x = Dense(1024, activation='relu')(x)\n",
    "    x = BatchNormalization()(x)\n",
    "    x = Dropout(p/2)(x)\n",
    "    x = Dense(1024, activation='relu')(x)\n",
    "    x = BatchNormalization()(x)\n",
    "    x = Dropout(p/2)(x)\n",
    "    x_bb = Dense(4, name='bb')(x)\n",
    "    x_class = Dense(8, activation='softmax', name='class')(x1)\n",
    "    return inp, x_bb, x_class\n",
    "\n",
    "model = []\n",
    "predsls = []\n",
    "pvalsls = []\n",
    "\n",
    "for ii in range(8):\n",
    "    inp, x_bb, x_class = create_model()\n",
    "    model.append(Model([inp], [x_bb, x_class]))\n",
    "    #model.summary()\n",
    "    model[ii].compile(Adam(lr=1e-3), loss=['mse', 'categorical_crossentropy'], metrics=['accuracy'],\n",
    "                 loss_weights=[.001, 1.])\n",
    "    model[ii].fit(conv_trn_feat[ftrnid], [trn_bbox[ftrnid], trn_labels[ftrnid]], batch_size=batch_size, nb_epoch=3, \n",
    "                 validation_data=(conv_val_feat[fvalid], [val_bbox[fvalid], val_labels[fvalid]]))\n",
    "    model[ii].optimizer.lr = 1e-4\n",
    "    model[ii].optimizer.loss_weights=[.0001, 1.]\n",
    "    model[ii].fit(conv_trn_feat[ftrnid], [trn_bbox[ftrnid], trn_labels[ftrnid]], batch_size=batch_size, nb_epoch=1, \n",
    "                 validation_data=(conv_val_feat[fvalid], [val_bbox[fvalid], val_labels[fvalid]]))\n",
    "    # model[ii].optimizer.lr = 1e-5\n",
    "\n",
    "    count = 0\n",
    "    while count < 2:\n",
    "        model[ii].fit(conv_trn_feat[ftrnid], [trn_bbox[ftrnid], trn_labels[ftrnid]], batch_size=batch_size, nb_epoch=1, \n",
    "                 validation_data=(conv_val_feat[fvalid], [val_bbox[fvalid], val_labels[fvalid]]))\n",
    "        predsls.append(model[ii].predict(conv_test_feat, batch_size=batch_size)[1]) # or try 32 batch_size\n",
    "        pvalsls.append(model[ii].predict(conv_val_feat[fvalid], batch_size=batch_size)[1])\n",
    "        val_score = \"%.3f\" % metrics.log_loss(val_labels[fvalid], sum(pvalsls)/len(pvalsls))\n",
    "        acc_score = \"%.3f\" % accuracyfunc(val_labels[fvalid], do_clip(sum(pvalsls)/len(pvalsls), clip))\n",
    "        log.info('Bagged Validation Logloss ' + str(val_score))\n",
    "        log.info('Bagged Validation Accuracy ' + str(acc_score))\n",
    "        count += 1"
   ]
  },
  {
   "cell_type": "code",
   "execution_count": null,
   "metadata": {
    "collapsed": false
   },
   "outputs": [],
   "source": [
    "for i in range(2): \n",
    "    print(conv_layers[-i].output_shape[1:])"
   ]
  },
  {
   "cell_type": "code",
   "execution_count": null,
   "metadata": {
    "collapsed": false
   },
   "outputs": [],
   "source": [
    "# metrics.log_loss(val_labels, do_clip(sum(pvalsls)/len(pvalsls), .9999))\n",
    "preds = sum(predsls)/len(predsls)\n",
    "subm = do_clip(preds, clip)\n",
    "\n",
    "if full:\n",
    "    subm_name = path+'results/subm_full_conv_' + timestr + '.csv' #'.csv.gz'\n",
    "else:\n",
    "    subm_name = path+'results/subm_part_conv_' + timestr + '.csv' #'.csv.gz'\n",
    "\n",
    "classes = ['ALB', 'BET', 'DOL', 'LAG', 'NoF', 'OTHER', 'SHARK', 'YFT']\n",
    "submission = pd.DataFrame(subm, columns=classes)\n",
    "submission.insert(0, 'image', raw_test_filenames)\n",
    "submission.to_csv(subm_name, index=False)#, compression='gzip')\n",
    "log.info('Done - files @ ' + subm_name)"
   ]
  },
  {
   "cell_type": "code",
   "execution_count": null,
   "metadata": {
    "collapsed": false
   },
   "outputs": [],
   "source": [
    "FileLink(subm_name)"
   ]
  }
 ],
 "metadata": {
  "anaconda-cloud": {},
  "kernelspec": {
   "display_name": "Python [conda root]",
   "language": "python",
   "name": "conda-root-py"
  },
  "language_info": {
   "codemirror_mode": {
    "name": "ipython",
    "version": 2
   },
   "file_extension": ".py",
   "mimetype": "text/x-python",
   "name": "python",
   "nbconvert_exporter": "python",
   "pygments_lexer": "ipython2",
   "version": "2.7.12"
  }
 },
 "nbformat": 4,
 "nbformat_minor": 1
}
